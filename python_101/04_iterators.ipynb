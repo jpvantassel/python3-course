{
 "cells": [
  {
   "cell_type": "markdown",
   "id": "366e1ab5-f900-4f0f-87cf-aa8596303000",
   "metadata": {},
   "source": [
    "# Iterators\n",
    "\n",
    "> Joseph P. Vantassel\n",
    "\n",
    "This notebook includes a brief overview of iteration in Python."
   ]
  },
  {
   "cell_type": "markdown",
   "id": "e9769ff3-b7c8-440d-9189-b76cd9da68e8",
   "metadata": {},
   "source": [
    "## `for`\n",
    "\n",
    "- `for` allows iteration over a specified range.\n",
    "- `for` can also be used to iterate across data collections."
   ]
  },
  {
   "cell_type": "markdown",
   "id": "8e717f72-16e5-47fd-b3f2-0fd877aafd64",
   "metadata": {},
   "source": [
    "### Loop using `range`\n",
    "\n",
    "`range` is a builtin function that allows you to iterate over integers."
   ]
  },
  {
   "cell_type": "code",
   "execution_count": 3,
   "id": "f6932e44-f4f3-424e-81aa-c3ea6babbd84",
   "metadata": {},
   "outputs": [
    {
     "name": "stdout",
     "output_type": "stream",
     "text": [
      "0\n",
      "1\n",
      "2\n",
      "3\n",
      "4\n"
     ]
    }
   ],
   "source": [
    "for x in range(5): # iterate from 0 to 4 (i.e., 5 values in total)\n",
    "    print(x)"
   ]
  },
  {
   "cell_type": "code",
   "execution_count": 5,
   "id": "c65ace97-35bd-423b-aa52-2a09cb997cf0",
   "metadata": {},
   "outputs": [
    {
     "name": "stdout",
     "output_type": "stream",
     "text": [
      "1\n",
      "3\n",
      "5\n"
     ]
    }
   ],
   "source": [
    "for x in range(1, 7, 2): # range(start, stop, step)\n",
    "    print(x)"
   ]
  },
  {
   "cell_type": "markdown",
   "id": "878db83a-5046-469d-a39b-a663d22b77fb",
   "metadata": {},
   "source": [
    "### Loop across a `list`"
   ]
  },
  {
   "cell_type": "code",
   "execution_count": 7,
   "id": "437b182e-46d5-468e-b1a9-fc4484ac72f7",
   "metadata": {},
   "outputs": [
    {
     "name": "stdout",
     "output_type": "stream",
     "text": [
      "1.0\n",
      "1.3\n",
      "2.0\n"
     ]
    }
   ],
   "source": [
    "for x in [1., 1.3, 2.]: # here a list of floats\n",
    "    print(x)"
   ]
  },
  {
   "cell_type": "code",
   "execution_count": 11,
   "id": "bd9e8bdc-01cf-4d32-ba69-fd00c96fba7d",
   "metadata": {},
   "outputs": [
    {
     "name": "stdout",
     "output_type": "stream",
     "text": [
      "tada is of type <class 'str'>\n",
      "True is of type <class 'bool'>\n",
      "1.0 is of type <class 'float'>\n"
     ]
    }
   ],
   "source": [
    "for x in [\"tada\", True, 1.]: # here a list of diverse datatypes\n",
    "    print(f\"{x} is of type {type(x)}\")"
   ]
  },
  {
   "cell_type": "markdown",
   "id": "59e13d83-0314-464e-b939-eec48c080d06",
   "metadata": {},
   "source": [
    "### Loop across a `dict`"
   ]
  },
  {
   "cell_type": "code",
   "execution_count": 13,
   "id": "ac22d998-0e32-4414-99bc-a309625a53ba",
   "metadata": {},
   "outputs": [
    {
     "name": "stdout",
     "output_type": "stream",
     "text": [
      "this\n",
      "these\n"
     ]
    }
   ],
   "source": [
    "mydict = dict(this=\"that\", these=\"those\") # this is a convenient way of creating a dict\n",
    "for key in mydict: # iterate across key by default\n",
    "    print(key)"
   ]
  },
  {
   "cell_type": "code",
   "execution_count": 14,
   "id": "6db95028-407d-4ad5-ac6d-b0c59081a936",
   "metadata": {},
   "outputs": [
    {
     "name": "stdout",
     "output_type": "stream",
     "text": [
      "this that\n",
      "these those\n"
     ]
    }
   ],
   "source": [
    "mydict = dict(this=\"that\", these=\"those\")\n",
    "for key, value in mydict.items(): # now returns key and value\n",
    "    print(key, value)"
   ]
  },
  {
   "cell_type": "code",
   "execution_count": 15,
   "id": "8579d9ac-661e-416f-9d7e-4c4dbd26ec57",
   "metadata": {},
   "outputs": [
    {
     "name": "stdout",
     "output_type": "stream",
     "text": [
      "that\n",
      "those\n"
     ]
    }
   ],
   "source": [
    "mydict = dict(this=\"that\", these=\"those\")\n",
    "for value in mydict.values(): # now returns only value\n",
    "    print(value)"
   ]
  },
  {
   "cell_type": "markdown",
   "id": "fddf5da7-7a20-4585-ae10-77793ac787be",
   "metadata": {},
   "source": [
    "### Loop to create a `list`"
   ]
  },
  {
   "cell_type": "code",
   "execution_count": 20,
   "id": "59b9a91b-0bc9-4e5a-9ffd-5517b82d441f",
   "metadata": {},
   "outputs": [
    {
     "name": "stdout",
     "output_type": "stream",
     "text": [
      "[0.0, 0.5, 1.0, 1.5, 2.0, 2.5, 3.0, 3.5, 4.0, 4.5, 5.0, 5.5, 6.0, 6.5, 7.0, 7.5, 8.0, 8.5, 9.0, 9.5]\n"
     ]
    }
   ],
   "source": [
    "start, stop, nsteps = 0, 10, 20\n",
    "new_list = []\n",
    "for ith_step in range(nsteps):\n",
    "    new_list.append(start + ((stop - start)/nsteps * ith_step))\n",
    "print(new_list)"
   ]
  },
  {
   "cell_type": "markdown",
   "id": "5a6f46f8-312c-462c-836b-3f5140ed8fe2",
   "metadata": {},
   "source": [
    "#### Can flatten the loop syntax using a list comprehension"
   ]
  },
  {
   "cell_type": "code",
   "execution_count": 22,
   "id": "5f2d18a1-652e-46d4-a71a-fb6973a3acde",
   "metadata": {},
   "outputs": [
    {
     "name": "stdout",
     "output_type": "stream",
     "text": [
      "[0.0, 0.5, 1.0, 1.5, 2.0, 2.5, 3.0, 3.5, 4.0, 4.5, 5.0, 5.5, 6.0, 6.5, 7.0, 7.5, 8.0, 8.5, 9.0, 9.5]\n"
     ]
    }
   ],
   "source": [
    "start, stop, nsteps = 0, 10, 20\n",
    "new_list = [start + ((stop - start)/nsteps * ith_step) for ith_step in range(nsteps)]\n",
    "print(new_list)"
   ]
  },
  {
   "cell_type": "markdown",
   "id": "309fde1e-8798-4ef5-8096-8c71606b4af0",
   "metadata": {},
   "source": [
    "## `while`\n",
    "\n",
    "Python has `while` loops, but `for` loops should be preferred when possible (which is most of the time) because they are easier to reason about (both for you and the interpreter)."
   ]
  },
  {
   "cell_type": "markdown",
   "id": "32511e18-0a32-463a-aa29-8994549a321a",
   "metadata": {},
   "source": [
    "## Practice Problem\n",
    "\n",
    "Create a `list` with the first 20 Fibonacci numbers.\n",
    "\n",
    "_Hint: The Fibonacci numbers start from $0$ and $1$ and increase as the sum of the two prior numbers in the sequence (i.e., $F_n = F_{n-2} + F_{n-1}$)._\n",
    "\n"
   ]
  },
  {
   "cell_type": "code",
   "execution_count": null,
   "id": "81b84eb0-f5e4-40c8-a15c-374ffaf2cc24",
   "metadata": {},
   "outputs": [],
   "source": []
  }
 ],
 "metadata": {
  "kernelspec": {
   "display_name": "Python 3 (ipykernel)",
   "language": "python",
   "name": "python3"
  },
  "language_info": {
   "codemirror_mode": {
    "name": "ipython",
    "version": 3
   },
   "file_extension": ".py",
   "mimetype": "text/x-python",
   "name": "python",
   "nbconvert_exporter": "python",
   "pygments_lexer": "ipython3",
   "version": "3.9.5"
  }
 },
 "nbformat": 4,
 "nbformat_minor": 5
}
