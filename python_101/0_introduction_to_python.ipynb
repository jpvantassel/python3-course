{
 "cells": [
  {
   "cell_type": "markdown",
   "id": "d5529819-1284-4701-8aa2-d60d82e1e2d4",
   "metadata": {},
   "source": [
    "# Introduction to Python\n",
    "\n",
    "> Joseph P. Vantassel\n",
    "\n",
    "This notebook presents a brief introduction to the Python programming language."
   ]
  },
  {
   "cell_type": "markdown",
   "id": "f46df1e3-069b-41d2-86ac-1eca8dfccf10",
   "metadata": {},
   "source": [
    "## Why Learn Python?\n",
    "\n",
    "![pypl_language_statistics](./figs/pypl_lang_stats.png)\n",
    "\n",
    "\n",
    "> The PYPL PopularitY of Programming Language Index is created by analyzing how often language tutorials are searched on Google.\n",
    "> The more a language tutorial is searched, the more popular the language is assumed to be. The raw data comes from Google Trends.\n"
   ]
  },
  {
   "cell_type": "markdown",
   "id": "12c99b4f-4dc0-4e25-ada7-ae0a32b11130",
   "metadata": {
    "tags": []
   },
   "source": [
    "## Why does Popularity Matter?\n",
    "\n",
    "- Many great free resources:\n",
    "    - [Coursera: Crash Course on Python](https://www.coursera.org/learn/python-crash-course)\n",
    "    - [YouTube: Corey Schafer](https://www.youtube.com/c/Coreyms)\n",
    "    - [YouTube: Arjan Codes](https://www.youtube.com/channel/UCVhQ2NnY5Rskt6UjCUkJ_DA)\n",
    "    - And many many others ...\n",
    "    \n",
    "- Solutions to common problems can be easily searched:\n",
    "    - [Nearly 2M questions with Python tag on StackOverflow](https://stackoverflow.com/questions/tagged/python)\n",
    "    \n",
    "- Dedicated community:\n",
    "    - [Hundreds of Python Enhancement Proposals (PEPs)](https://peps.python.org/)\n",
    "    - [Nearly 400k Python packages on the Python Package Index (PyPI)](https://pypi.org/)\n",
    "   "
   ]
  },
  {
   "cell_type": "markdown",
   "id": "3f9ae51a-51de-473d-876f-7232b1fdcd71",
   "metadata": {},
   "source": [
    "## A Brief History of Python\n",
    "\n",
    "- Python is a high-level programming language developed by Guido van Rossum.\n",
    "- van Rossum was the lead developer on Python until 2018 when he announced a \"permanent vacation\" from his role as the projects \"benevolent dictator for life\".\n",
    "- Python is now managed by a five-member steering council.\n",
    "\n",
    "### Python 2 vs Python 3\n",
    "\n",
    "- In 2008 a major overhaul of the language was released with Python 3.0.0.\n",
    "- Python 2 and Python 3 are not backwards compatabile (i.e., Python 2 code will not run with a Python 3 interpreter).\n",
    "- This represented a major shift in the community.\n",
    "- The final version of Python 2 (2.7.0) reach end of life on January 1st 2020.\n",
    "- All new code should be written in Python 3 and all legacy code should be ported to Python 2 to prevent future security exploits.\n"
   ]
  },
  {
   "cell_type": "markdown",
   "id": "8b7fadcf-8d7b-4bfd-b0e5-1b4fa0d65c2a",
   "metadata": {},
   "source": [
    "## What does Python Offer\n",
    "\n",
    "- Python is a high-level, general-purpose programming language.\n",
    "- Python is an interpreated language (i.e., not a compiled language).\n",
    "- Python is a duck-typed language (i.e., not statically typed), although type hints have been added to the language since Python 3.5.\n",
    "- Python is a garbage-collected language (i.e., memory is released as variables go out of scope or overwritten).\n",
    "- Python supports both functional and object-oriented programming paradigms.\n",
    "- Python is excellent at the handling of string-type data making it excellent for data processing and manipulation.\n",
    "- Python is currently the leading programming language for artificial intelligence work due to packages such as TensorFlow, Scikit-Learn, PyTorch, and others.\n",
    "- Python can attain C-level performance using tools like c-compiled extensions and just-in-time compilation.\n",
    "- Python support parallelization using multi-processing and multi-threading within the standard library."
   ]
  },
  {
   "cell_type": "markdown",
   "id": "f2945558-7d21-43bc-a077-f8133ba361b6",
   "metadata": {},
   "source": [
    "## Zen of Python\n",
    "\n",
    "A set of humorous and helpful philosophies on Python programming."
   ]
  },
  {
   "cell_type": "code",
   "execution_count": 1,
   "id": "c15d58e7-9cae-495d-ad58-c4cfc99bf84d",
   "metadata": {},
   "outputs": [
    {
     "name": "stdout",
     "output_type": "stream",
     "text": [
      "The Zen of Python, by Tim Peters\n",
      "\n",
      "Beautiful is better than ugly.\n",
      "Explicit is better than implicit.\n",
      "Simple is better than complex.\n",
      "Complex is better than complicated.\n",
      "Flat is better than nested.\n",
      "Sparse is better than dense.\n",
      "Readability counts.\n",
      "Special cases aren't special enough to break the rules.\n",
      "Although practicality beats purity.\n",
      "Errors should never pass silently.\n",
      "Unless explicitly silenced.\n",
      "In the face of ambiguity, refuse the temptation to guess.\n",
      "There should be one-- and preferably only one --obvious way to do it.\n",
      "Although that way may not be obvious at first unless you're Dutch.\n",
      "Now is better than never.\n",
      "Although never is often better than *right* now.\n",
      "If the implementation is hard to explain, it's a bad idea.\n",
      "If the implementation is easy to explain, it may be a good idea.\n",
      "Namespaces are one honking great idea -- let's do more of those!\n"
     ]
    }
   ],
   "source": [
    "import this"
   ]
  },
  {
   "cell_type": "code",
   "execution_count": null,
   "id": "6cd97d07-ac74-4bdf-889e-ffa83d272802",
   "metadata": {},
   "outputs": [],
   "source": []
  }
 ],
 "metadata": {
  "kernelspec": {
   "display_name": "Python 3 (ipykernel)",
   "language": "python",
   "name": "python3"
  },
  "language_info": {
   "codemirror_mode": {
    "name": "ipython",
    "version": 3
   },
   "file_extension": ".py",
   "mimetype": "text/x-python",
   "name": "python",
   "nbconvert_exporter": "python",
   "pygments_lexer": "ipython3",
   "version": "3.9.5"
  }
 },
 "nbformat": 4,
 "nbformat_minor": 5
}
