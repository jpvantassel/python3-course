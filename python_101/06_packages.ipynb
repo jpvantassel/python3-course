{
 "cells": [
  {
   "cell_type": "markdown",
   "id": "4a794065-70b5-4842-b753-a0618857cbf7",
   "metadata": {},
   "source": [
    "# Modules, Packages, `pip`, and `conda`\n",
    "\n",
    "> Joseph P. Vantassel\n",
    "\n",
    "This notebook briefly covers Python `modules` and `packages` and how you can get the most out of the Python ecosystem using `pip` and `conda`."
   ]
  },
  {
   "cell_type": "markdown",
   "id": "0b8d459e-7e21-4af7-8fac-bdfb422c0daa",
   "metadata": {},
   "source": [
    "## Modules\n",
    "\n",
    "- A `module` is some importable Python code.\n",
    "- To create a `module`, create a text file and `import` it.\n",
    "\n",
    "### Example\n",
    "\n",
    "- Create a file `hello.py`.\n",
    "- It contains only `print(\"Howdy from Python module hello!\")`"
   ]
  },
  {
   "cell_type": "code",
   "execution_count": 2,
   "id": "c1f71bc9-0188-4918-a926-d7b94d3068e0",
   "metadata": {},
   "outputs": [],
   "source": [
    "# will write hello.py live"
   ]
  },
  {
   "cell_type": "code",
   "execution_count": 2,
   "id": "298d72f9-cfeb-4cce-a75a-a610c0227889",
   "metadata": {},
   "outputs": [
    {
     "name": "stdout",
     "output_type": "stream",
     "text": [
      "Howdy from Python module hello!\n"
     ]
    }
   ],
   "source": [
    "import hello"
   ]
  },
  {
   "cell_type": "code",
   "execution_count": 3,
   "id": "955cf8bd-799d-42ab-93f2-9f7527ed3b7a",
   "metadata": {},
   "outputs": [
    {
     "name": "stdout",
     "output_type": "stream",
     "text": [
      "<class 'module'>\n"
     ]
    }
   ],
   "source": [
    "print(type(hello))"
   ]
  },
  {
   "cell_type": "markdown",
   "id": "74cef538-2933-4d46-8517-9b601d6b793a",
   "metadata": {},
   "source": [
    "## A more realistic example\n",
    "\n",
    "- Create a file `mymath.py`\n",
    "- Inside that file we will define our Fibonacci calculator from earlier.\n",
    "- We will import it using the `import` keyword and then have access to our function."
   ]
  },
  {
   "cell_type": "code",
   "execution_count": null,
   "id": "7cbdb02d-ea45-4f55-a63f-55423d4491c1",
   "metadata": {},
   "outputs": [],
   "source": [
    "# will write mymath.py live"
   ]
  },
  {
   "cell_type": "code",
   "execution_count": 4,
   "id": "7a7332f0-8790-4eeb-9f6d-26cd9cc731d9",
   "metadata": {},
   "outputs": [],
   "source": [
    "import mymath"
   ]
  },
  {
   "cell_type": "code",
   "execution_count": 6,
   "id": "64eb5873-a33f-4113-8a8b-66d627c0513e",
   "metadata": {},
   "outputs": [
    {
     "name": "stdout",
     "output_type": "stream",
     "text": [
      "<class 'module'>\n",
      "['__builtins__', '__cached__', '__doc__', '__file__', '__loader__', '__name__', '__package__', '__spec__', 'fib']\n"
     ]
    }
   ],
   "source": [
    "print(type(mymath))\n",
    "print(dir(mymath))"
   ]
  },
  {
   "cell_type": "code",
   "execution_count": 8,
   "id": "ebb4bfd1-68e7-406f-bfc6-8dd741e2a584",
   "metadata": {},
   "outputs": [
    {
     "name": "stdout",
     "output_type": "stream",
     "text": [
      "[0, 1, 1, 2, 3, 5, 8, 13, 21, 34]\n"
     ]
    }
   ],
   "source": [
    "print(mymath.fib(10))"
   ]
  },
  {
   "cell_type": "markdown",
   "id": "7884112e-39f8-444e-8de0-d0333e714f36",
   "metadata": {},
   "source": [
    "## Packages\n",
    "\n",
    "- If the objects you `import` are `modules`, what are `packages`?\n",
    "\n",
    "A Python package is a module or collection of modules that has/have been bundled together for some purpose. The package in a literal sense is simply a directory containing the desired modules to be packaged and an additional module `__init__.py` (often referred to as a dunder init), which may be and generally is empty.\n",
    "\n",
    "Building packages is beyond the scope of this training, but more information can be found [here](https://jpvantassel.github.io/python3-course/#/adv/packages?id=what-is-a-python-package)."
   ]
  },
  {
   "cell_type": "markdown",
   "id": "55d45eff-0f7a-4bf4-a86f-9e091fa60856",
   "metadata": {},
   "source": [
    "## `pip`\n",
    "\n",
    "- `pip` and `conda` are tools for managing Python packages.\n",
    "- `pip` is an acronym for `Pip installs packages` and allows consumers of packages to download them from a variety of sources.\n",
    "- The most common source of `pip installs` is the `Python package index (PyPI)`.\n",
    "- `PyPI` is an open repository of Python packages [pypi.org](https://pypi.org/).\n",
    "\n",
    "### To install a package using `pip`\n",
    "\n",
    "- Enter `pip install <package>` at the command line.\n",
    "- We can skip going out to the command line by using the `!` line magic.\n"
   ]
  },
  {
   "cell_type": "code",
   "execution_count": 9,
   "id": "3400e28f-528a-447e-9642-48e758b410f2",
   "metadata": {},
   "outputs": [
    {
     "name": "stdout",
     "output_type": "stream",
     "text": [
      "Collecting hvsrpy\n",
      "  Downloading hvsrpy-1.0.0-py3-none-any.whl (50 kB)\n",
      "\u001b[2K     \u001b[90m━━━━━━━━━━━━━━━━━━━━━━━━━━━━━━━━━━━━━━━━\u001b[0m \u001b[32m50.8/50.8 KB\u001b[0m \u001b[31m1.5 MB/s\u001b[0m eta \u001b[36m0:00:00\u001b[0m\n",
      "\u001b[?25hCollecting sigpropy>=1.0.0\n",
      "  Downloading sigpropy-1.0.0-py3-none-any.whl (29 kB)\n",
      "Collecting numpy<=1.20\n",
      "  Downloading numpy-1.20.0-cp39-cp39-macosx_10_9_x86_64.whl (16.1 MB)\n",
      "\u001b[2K     \u001b[90m━━━━━━━━━━━━━━━━━━━━━━━━━━━━━━━━━━━━━━━━\u001b[0m \u001b[32m16.1/16.1 MB\u001b[0m \u001b[31m15.1 MB/s\u001b[0m eta \u001b[36m0:00:00\u001b[0m00:01\u001b[0m00:01\u001b[0m\n",
      "\u001b[?25hCollecting termcolor\n",
      "  Using cached termcolor-1.1.0-py3-none-any.whl\n",
      "Collecting scipy\n",
      "  Using cached scipy-1.8.0-cp39-cp39-macosx_12_0_universal2.macosx_10_9_x86_64.whl (55.6 MB)\n",
      "Collecting matplotlib\n",
      "  Using cached matplotlib-3.5.1-cp39-cp39-macosx_10_9_x86_64.whl (7.3 MB)\n",
      "Collecting click>8.0.0\n",
      "  Downloading click-8.1.2-py3-none-any.whl (96 kB)\n",
      "\u001b[2K     \u001b[90m━━━━━━━━━━━━━━━━━━━━━━━━━━━━━━━━━━━━━━━━\u001b[0m \u001b[32m96.6/96.6 KB\u001b[0m \u001b[31m3.3 MB/s\u001b[0m eta \u001b[36m0:00:00\u001b[0m\n",
      "\u001b[?25hCollecting shapely\n",
      "  Downloading Shapely-1.8.1.post1-cp39-cp39-macosx_10_9_x86_64.whl (1.2 MB)\n",
      "\u001b[2K     \u001b[90m━━━━━━━━━━━━━━━━━━━━━━━━━━━━━━━━━━━━━━━━\u001b[0m \u001b[32m1.2/1.2 MB\u001b[0m \u001b[31m12.8 MB/s\u001b[0m eta \u001b[36m0:00:00\u001b[0m00:01\u001b[0m00:01\u001b[0m\n",
      "\u001b[?25hCollecting obspy\n",
      "  Downloading obspy-1.3.0-cp39-cp39-macosx_10_9_x86_64.whl (14.0 MB)\n",
      "\u001b[2K     \u001b[90m━━━━━━━━━━━━━━━━━━━━━━━━━━━━━━━━━━━━━━━━\u001b[0m \u001b[32m14.0/14.0 MB\u001b[0m \u001b[31m16.6 MB/s\u001b[0m eta \u001b[36m0:00:00\u001b[0m00:01\u001b[0m00:01\u001b[0m\n",
      "\u001b[?25hCollecting pandas\n",
      "  Downloading pandas-1.4.2-cp39-cp39-macosx_10_9_x86_64.whl (11.1 MB)\n",
      "\u001b[2K     \u001b[90m━━━━━━━━━━━━━━━━━━━━━━━━━━━━━━━━━━━━━━━━\u001b[0m \u001b[32m11.1/11.1 MB\u001b[0m \u001b[31m13.2 MB/s\u001b[0m eta \u001b[36m0:00:00\u001b[0m00:01\u001b[0m00:01\u001b[0m\n",
      "\u001b[?25hCollecting numba\n",
      "  Downloading numba-0.55.1-cp39-cp39-macosx_10_14_x86_64.whl (2.3 MB)\n",
      "\u001b[2K     \u001b[90m━━━━━━━━━━━━━━━━━━━━━━━━━━━━━━━━━━━━━━━━\u001b[0m \u001b[32m2.3/2.3 MB\u001b[0m \u001b[31m13.7 MB/s\u001b[0m eta \u001b[36m0:00:00\u001b[0m00:01\u001b[0m00:01\u001b[0m\n",
      "\u001b[?25hRequirement already satisfied: python-dateutil>=2.7 in ./venv/lib/python3.9/site-packages (from matplotlib->hvsrpy) (2.8.2)\n",
      "Requirement already satisfied: pyparsing>=2.2.1 in ./venv/lib/python3.9/site-packages (from matplotlib->hvsrpy) (3.0.7)\n",
      "Collecting cycler>=0.10\n",
      "  Using cached cycler-0.11.0-py3-none-any.whl (6.4 kB)\n",
      "Collecting pillow>=6.2.0\n",
      "  Using cached Pillow-9.1.0-cp39-cp39-macosx_10_9_x86_64.whl (3.1 MB)\n",
      "Collecting kiwisolver>=1.0.1\n",
      "  Using cached kiwisolver-1.4.2-cp39-cp39-macosx_10_9_x86_64.whl (65 kB)\n",
      "Requirement already satisfied: packaging>=20.0 in ./venv/lib/python3.9/site-packages (from matplotlib->hvsrpy) (21.3)\n",
      "Collecting fonttools>=4.22.0\n",
      "  Downloading fonttools-4.32.0-py3-none-any.whl (900 kB)\n",
      "\u001b[2K     \u001b[90m━━━━━━━━━━━━━━━━━━━━━━━━━━━━━━━━━━━━━━━\u001b[0m \u001b[32m900.8/900.8 KB\u001b[0m \u001b[31m6.4 MB/s\u001b[0m eta \u001b[36m0:00:00\u001b[0m00:01\u001b[0m00:01\u001b[0m\n",
      "\u001b[?25hCollecting sqlalchemy\n",
      "  Downloading SQLAlchemy-1.4.35-cp39-cp39-macosx_10_15_x86_64.whl (1.5 MB)\n",
      "\u001b[2K     \u001b[90m━━━━━━━━━━━━━━━━━━━━━━━━━━━━━━━━━━━━━━━━\u001b[0m \u001b[32m1.5/1.5 MB\u001b[0m \u001b[31m11.5 MB/s\u001b[0m eta \u001b[36m0:00:00\u001b[0m00:01\u001b[0m00:01\u001b[0m\n",
      "\u001b[?25hCollecting lxml\n",
      "  Downloading lxml-4.8.0-cp39-cp39-macosx_10_15_x86_64.whl (4.6 MB)\n",
      "\u001b[2K     \u001b[90m━━━━━━━━━━━━━━━━━━━━━━━━━━━━━━━━━━━━━━━━\u001b[0m \u001b[32m4.6/4.6 MB\u001b[0m \u001b[31m11.5 MB/s\u001b[0m eta \u001b[36m0:00:00\u001b[0m00:01\u001b[0m00:01\u001b[0m\n",
      "\u001b[?25hRequirement already satisfied: requests in ./venv/lib/python3.9/site-packages (from obspy->hvsrpy) (2.27.1)\n",
      "Requirement already satisfied: decorator in ./venv/lib/python3.9/site-packages (from obspy->hvsrpy) (5.1.1)\n",
      "Requirement already satisfied: setuptools in ./venv/lib/python3.9/site-packages (from obspy->hvsrpy) (60.9.3)\n",
      "Requirement already satisfied: pytz>=2020.1 in ./venv/lib/python3.9/site-packages (from pandas->hvsrpy) (2022.1)\n",
      "Requirement already satisfied: six>=1.5 in ./venv/lib/python3.9/site-packages (from python-dateutil>=2.7->matplotlib->hvsrpy) (1.16.0)\n",
      "Collecting llvmlite<0.39,>=0.38.0rc1\n",
      "  Downloading llvmlite-0.38.0-cp39-cp39-macosx_10_9_x86_64.whl (25.5 MB)\n",
      "\u001b[2K     \u001b[90m━━━━━━━━━━━━━━━━━━━━━━━━━━━━━━━━━━━━━━━━\u001b[0m \u001b[32m25.5/25.5 MB\u001b[0m \u001b[31m13.9 MB/s\u001b[0m eta \u001b[36m0:00:00\u001b[0m00:01\u001b[0m00:01\u001b[0m\n",
      "\u001b[?25hRequirement already satisfied: certifi>=2017.4.17 in ./venv/lib/python3.9/site-packages (from requests->obspy->hvsrpy) (2021.10.8)\n",
      "Requirement already satisfied: idna<4,>=2.5 in ./venv/lib/python3.9/site-packages (from requests->obspy->hvsrpy) (3.3)\n",
      "Requirement already satisfied: charset-normalizer~=2.0.0 in ./venv/lib/python3.9/site-packages (from requests->obspy->hvsrpy) (2.0.12)\n",
      "Requirement already satisfied: urllib3<1.27,>=1.21.1 in ./venv/lib/python3.9/site-packages (from requests->obspy->hvsrpy) (1.26.9)\n",
      "Collecting greenlet!=0.4.17\n",
      "  Downloading greenlet-1.1.2-cp39-cp39-macosx_10_14_x86_64.whl (92 kB)\n",
      "\u001b[2K     \u001b[90m━━━━━━━━━━━━━━━━━━━━━━━━━━━━━━━━━━━━━━━━\u001b[0m \u001b[32m92.8/92.8 KB\u001b[0m \u001b[31m3.6 MB/s\u001b[0m eta \u001b[36m0:00:00\u001b[0m\n",
      "\u001b[?25hInstalling collected packages: termcolor, shapely, pillow, numpy, lxml, llvmlite, kiwisolver, greenlet, fonttools, cycler, click, sqlalchemy, scipy, pandas, numba, matplotlib, obspy, sigpropy, hvsrpy\n",
      "Successfully installed click-8.1.2 cycler-0.11.0 fonttools-4.32.0 greenlet-1.1.2 hvsrpy-1.0.0 kiwisolver-1.4.2 llvmlite-0.38.0 lxml-4.8.0 matplotlib-3.5.1 numba-0.55.1 numpy-1.20.0 obspy-1.3.0 pandas-1.4.2 pillow-9.1.0 scipy-1.8.0 shapely-1.8.1.post1 sigpropy-1.0.0 sqlalchemy-1.4.35 termcolor-1.1.0\n"
     ]
    }
   ],
   "source": [
    "!pip install hvsrpy"
   ]
  },
  {
   "cell_type": "markdown",
   "id": "d4c6ae78-d13d-4a95-aac6-f9a5f637251b",
   "metadata": {},
   "source": [
    " - Now we need to restart our kernel for Python to be able \"see\" the package."
   ]
  },
  {
   "cell_type": "code",
   "execution_count": 1,
   "id": "e03f1016-b7e8-4ec8-99e5-7a1876e18fe7",
   "metadata": {},
   "outputs": [],
   "source": [
    "import hvsrpy"
   ]
  },
  {
   "cell_type": "markdown",
   "id": "5bda75ff-fedf-4d27-9be9-510911ca698e",
   "metadata": {},
   "source": [
    "- Now we can `pip list` and see what we have installed."
   ]
  },
  {
   "cell_type": "code",
   "execution_count": 2,
   "id": "2c1caff8-348d-4d6b-a204-69cfa075561d",
   "metadata": {},
   "outputs": [
    {
     "name": "stdout",
     "output_type": "stream",
     "text": [
      "Package              Version\n",
      "-------------------- -----------\n",
      "anyio                3.5.0\n",
      "appnope              0.1.3\n",
      "argon2-cffi          21.3.0\n",
      "argon2-cffi-bindings 21.2.0\n",
      "asttokens            2.0.5\n",
      "attrs                21.4.0\n",
      "Babel                2.9.1\n",
      "backcall             0.2.0\n",
      "beautifulsoup4       4.10.0\n",
      "bleach               4.1.0\n",
      "certifi              2021.10.8\n",
      "cffi                 1.15.0\n",
      "charset-normalizer   2.0.12\n",
      "click                8.1.2\n",
      "cycler               0.11.0\n",
      "debugpy              1.6.0\n",
      "decorator            5.1.1\n",
      "defusedxml           0.7.1\n",
      "entrypoints          0.4\n",
      "executing            0.8.3\n",
      "fastjsonschema       2.15.3\n",
      "fonttools            4.32.0\n",
      "greenlet             1.1.2\n",
      "hvsrpy               1.0.0\n",
      "idna                 3.3\n",
      "ipykernel            6.12.1\n",
      "ipython              8.2.0\n",
      "ipython-genutils     0.2.0\n",
      "jedi                 0.18.1\n",
      "Jinja2               3.1.1\n",
      "json5                0.9.6\n",
      "jsonschema           4.4.0\n",
      "jupyter-client       7.2.1\n",
      "jupyter-core         4.9.2\n",
      "jupyter-server       1.16.0\n",
      "jupyterlab           3.3.2\n",
      "jupyterlab-pygments  0.1.2\n",
      "jupyterlab-server    2.12.0\n",
      "kiwisolver           1.4.2\n",
      "llvmlite             0.38.0\n",
      "lxml                 4.8.0\n",
      "MarkupSafe           2.1.1\n",
      "matplotlib           3.5.1\n",
      "matplotlib-inline    0.1.3\n",
      "mistune              0.8.4\n",
      "nbclassic            0.3.7\n",
      "nbclient             0.5.13\n",
      "nbconvert            6.4.5\n",
      "nbformat             5.3.0\n",
      "nest-asyncio         1.5.5\n",
      "notebook             6.4.10\n",
      "notebook-shim        0.1.0\n",
      "numba                0.55.1\n",
      "numpy                1.20.0\n",
      "obspy                1.3.0\n",
      "packaging            21.3\n",
      "pandas               1.4.2\n",
      "pandocfilters        1.5.0\n",
      "parso                0.8.3\n",
      "pexpect              4.8.0\n",
      "pickleshare          0.7.5\n",
      "Pillow               9.1.0\n",
      "pip                  22.0.4\n",
      "prometheus-client    0.13.1\n",
      "prompt-toolkit       3.0.29\n",
      "psutil               5.9.0\n",
      "ptyprocess           0.7.0\n",
      "pure-eval            0.2.2\n",
      "pycparser            2.21\n",
      "Pygments             2.11.2\n",
      "pyparsing            3.0.7\n",
      "pyrsistent           0.18.1\n",
      "python-dateutil      2.8.2\n",
      "pytz                 2022.1\n",
      "pyzmq                22.3.0\n",
      "requests             2.27.1\n",
      "scipy                1.8.0\n",
      "Send2Trash           1.8.0\n",
      "setuptools           60.9.3\n",
      "Shapely              1.8.1.post1\n",
      "sigpropy             1.0.0\n",
      "six                  1.16.0\n",
      "sniffio              1.2.0\n",
      "soupsieve            2.3.1\n",
      "SQLAlchemy           1.4.35\n",
      "stack-data           0.2.0\n",
      "termcolor            1.1.0\n",
      "terminado            0.13.3\n",
      "testpath             0.6.0\n",
      "tornado              6.1\n",
      "traitlets            5.1.1\n",
      "urllib3              1.26.9\n",
      "wcwidth              0.2.5\n",
      "webencodings         0.5.1\n",
      "websocket-client     1.3.2\n",
      "wheel                0.37.1\n"
     ]
    }
   ],
   "source": [
    "!pip list"
   ]
  },
  {
   "cell_type": "markdown",
   "id": "79405a6b-72d0-43e2-8be9-8b2feb35447a",
   "metadata": {},
   "source": [
    "- If we want we can then uninstall that package."
   ]
  },
  {
   "cell_type": "code",
   "execution_count": 4,
   "id": "f141d6c0-3c53-474d-bd68-955793e651af",
   "metadata": {},
   "outputs": [
    {
     "name": "stdout",
     "output_type": "stream",
     "text": [
      "Found existing installation: hvsrpy 1.0.0\n",
      "Uninstalling hvsrpy-1.0.0:\n",
      "  Successfully uninstalled hvsrpy-1.0.0\n"
     ]
    }
   ],
   "source": [
    "!pip uninstall hvsrpy --yes # requires the --yes flag because of a y/n prompt"
   ]
  },
  {
   "cell_type": "markdown",
   "id": "07c2553b-73d6-4eb1-8f1d-9b15b7cbe086",
   "metadata": {},
   "source": [
    "## A brief aside about package \"hygiene\"\n",
    "\n",
    "- Before you install a package take a look at it.\n",
    "    - Look at its documentation\n",
    "    - Look at its examples\n",
    "    - Look at its discussion boards, open-issues, and pull requests\n",
    "- Ask yourself is this  like it is of good quality.\n",
    "- Ask yourself is what you are doing a small toy project or something more serious.\n",
    "    - If its a toy project and you found a package that does exaclty what you want but has not been updated for many years that is ok\n",
    "    - If its a serious project think very carefully before adding it as a new dependency."
   ]
  },
  {
   "cell_type": "markdown",
   "id": "6b0060e1-ef44-4f61-b449-7f85f9660a88",
   "metadata": {},
   "source": [
    "## `conda`\n",
    "\n",
    "- The most popular alterantive to `pip` is `conda`.\n",
    "- `conda` is similar to `pip` in that it allows you to install packages, but\n",
    "- `conda` is not only for Python,\n",
    "- `conda` install packages from a different source (i.e., does not install from PyPI),\n",
    "- `conda` has a more robust dependency resolver.\n",
    "\n",
    "In general `pip` and `conda` should not be mixed (install one package using `pip` and the next one using `conda`). However, if this is essential for your project use `conda` first to install everything you can and then use `pip` to fill in what is missing.\n",
    "\n",
    "Will not go into the details of using `conda` for this training. More information about `conda` is available on the project's website [docs.conda.io](https://docs.conda.io/en/latest/)."
   ]
  },
  {
   "cell_type": "code",
   "execution_count": null,
   "id": "77bf3350-386e-4e63-9edb-7aae95b851ef",
   "metadata": {},
   "outputs": [],
   "source": []
  }
 ],
 "metadata": {
  "kernelspec": {
   "display_name": "Python 3 (ipykernel)",
   "language": "python",
   "name": "python3"
  },
  "language_info": {
   "codemirror_mode": {
    "name": "ipython",
    "version": 3
   },
   "file_extension": ".py",
   "mimetype": "text/x-python",
   "name": "python",
   "nbconvert_exporter": "python",
   "pygments_lexer": "ipython3",
   "version": "3.9.5"
  }
 },
 "nbformat": 4,
 "nbformat_minor": 5
}
