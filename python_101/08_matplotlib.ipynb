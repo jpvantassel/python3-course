{
 "cells": [
  {
   "cell_type": "markdown",
   "id": "4ec00e8a-d132-460b-bb2a-b71ec4dfc8f3",
   "metadata": {},
   "source": [
    "# `matplotlib`\n",
    "\n",
    "> Joseph P. Vantassel\n",
    "\n",
    "This notebooks shows the basics of plotting with the `matplotlib` package."
   ]
  },
  {
   "cell_type": "markdown",
   "id": "b79f0b19-642d-4d3c-b22a-c0743dd95895",
   "metadata": {},
   "source": [
    "## Installation\n",
    "\n",
    "Because `matplotlib` is not part of the standard library we need to install it. We will do so using `pip`.\n",
    "\n",
    "Do not forget to restart your kernel after the installation for Python to be able to \"see\" the package.\n",
    "\n",
    "_Note that we also install `numpy` to make some of our tasks easier._"
   ]
  },
  {
   "cell_type": "code",
   "execution_count": 2,
   "id": "24bf2af3-d8ec-4512-a995-d9702c5f0c57",
   "metadata": {},
   "outputs": [
    {
     "name": "stdout",
     "output_type": "stream",
     "text": [
      "Requirement already satisfied: numpy in ./venv/lib/python3.9/site-packages (1.20.0)\n",
      "Requirement already satisfied: matplotlib in ./venv/lib/python3.9/site-packages (3.5.1)\n",
      "Requirement already satisfied: kiwisolver>=1.0.1 in ./venv/lib/python3.9/site-packages (from matplotlib) (1.4.2)\n",
      "Requirement already satisfied: pillow>=6.2.0 in ./venv/lib/python3.9/site-packages (from matplotlib) (9.1.0)\n",
      "Requirement already satisfied: python-dateutil>=2.7 in ./venv/lib/python3.9/site-packages (from matplotlib) (2.8.2)\n",
      "Requirement already satisfied: pyparsing>=2.2.1 in ./venv/lib/python3.9/site-packages (from matplotlib) (3.0.7)\n",
      "Requirement already satisfied: fonttools>=4.22.0 in ./venv/lib/python3.9/site-packages (from matplotlib) (4.32.0)\n",
      "Requirement already satisfied: packaging>=20.0 in ./venv/lib/python3.9/site-packages (from matplotlib) (21.3)\n",
      "Requirement already satisfied: numpy>=1.17 in ./venv/lib/python3.9/site-packages (from matplotlib) (1.20.0)\n",
      "Requirement already satisfied: cycler>=0.10 in ./venv/lib/python3.9/site-packages (from matplotlib) (0.11.0)\n",
      "Requirement already satisfied: six>=1.5 in ./venv/lib/python3.9/site-packages (from python-dateutil>=2.7->matplotlib) (1.16.0)\n"
     ]
    }
   ],
   "source": [
    "!pip install numpy\n",
    "!pip install matplotlib"
   ]
  },
  {
   "cell_type": "markdown",
   "id": "4d2c8589-82e6-4cab-a7cf-5d6b823fe8e7",
   "metadata": {},
   "source": [
    "## Getting Started\n",
    "\n",
    "- `matplotlib` is one of if not the most popular package for plotting in Python.\n",
    "- It was originally based on a port `MATLAB`'s plotting functionality, but has since evolved and in many ways surpassed the functionality available in `MATLAB`.\n",
    "- However, some of the syntax is similar, so if you are comfortable plotting in `MATLAB` this should help you in your transfer over to Python.\n",
    "- `matplotlib` is a massive package with a ton of functionality, the content in this notebook is only a small fraction of the features it overs.\n"
   ]
  },
  {
   "cell_type": "code",
   "execution_count": 1,
   "id": "f99743de-b987-4db3-96ba-72d24edde9e0",
   "metadata": {},
   "outputs": [],
   "source": [
    "import matplotlib.pyplot as plt # most people use pyplot, this is \"standard\" syntax\n",
    "import numpy as np"
   ]
  },
  {
   "cell_type": "markdown",
   "id": "ac8a2514-1cdd-49d3-af6e-5c463d9d28f6",
   "metadata": {},
   "source": [
    "## Let's plot a `sin` wave\n",
    "\n",
    "In particular this `sin` wave: $x(t) = sin(2 \\pi t)$ for $t \\in [0,1]$\n",
    "\n",
    "### First create the data"
   ]
  },
  {
   "cell_type": "code",
   "execution_count": 4,
   "id": "d9b0db9d-75c6-46cc-91fb-a5638cbad949",
   "metadata": {},
   "outputs": [
    {
     "name": "stdout",
     "output_type": "stream",
     "text": [
      "[0.  0.1 0.2 0.3 0.4 0.5 0.6 0.7 0.8 0.9 1. ]\n",
      "[ 0.00000000e+00  5.87785252e-01  9.51056516e-01  9.51056516e-01\n",
      "  5.87785252e-01  1.22464680e-16 -5.87785252e-01 -9.51056516e-01\n",
      " -9.51056516e-01 -5.87785252e-01 -2.44929360e-16]\n"
     ]
    }
   ],
   "source": [
    "t = np.linspace(0, 1, 11) # from 0 to 1 with 100 points\n",
    "x_of_t = np.sin(2*np.pi*t) # will use numpy's sin so that it handles the looping for us\n",
    "print(t)\n",
    "print(x_of_t)"
   ]
  },
  {
   "cell_type": "markdown",
   "id": "5f3e28de-c1fc-4872-b252-c9981af08e72",
   "metadata": {},
   "source": [
    "### Plot it out\n",
    "\n",
    "- First plot the data.\n",
    "- Add legend\n",
    "- Add x and y labels\n",
    "- Save the result to `.png`."
   ]
  },
  {
   "cell_type": "code",
   "execution_count": null,
   "id": "cf1952c4-0468-4f8b-a9a1-9881565cb0fc",
   "metadata": {},
   "outputs": [],
   "source": [
    "# will do live"
   ]
  },
  {
   "cell_type": "markdown",
   "id": "270ae497-877e-4a57-9fd8-90036a01e891",
   "metadata": {
    "tags": []
   },
   "source": [
    "## Now lets plot two different `sin` waves\n",
    "\n",
    "1. $x(t) = sin(2 \\pi t)$ for $t \\in [0,1]$ with solid black line\n",
    "2. $x(t) = sin(2 \\pi t + \\frac{\\pi}{2})$ for $t \\in [0,2]$ with dashed red line"
   ]
  },
  {
   "cell_type": "markdown",
   "id": "d928fe6e-a421-439d-aa55-d50b36dc5919",
   "metadata": {},
   "source": [
    "### Create the data"
   ]
  },
  {
   "cell_type": "code",
   "execution_count": null,
   "id": "b56a8bbc-74a3-4935-bf46-93378cb93111",
   "metadata": {},
   "outputs": [],
   "source": [
    "# will do live"
   ]
  },
  {
   "cell_type": "markdown",
   "id": "e0009695-2eea-4a68-97ba-d3a7616fecb2",
   "metadata": {},
   "source": [
    "### Plot it out\n",
    "\n",
    "- First plot the data.\n",
    "- Apply formatting.\n",
    "- Add legend.\n",
    "- Add x and y labels.\n",
    "- Save the result to `.png`."
   ]
  },
  {
   "cell_type": "code",
   "execution_count": null,
   "id": "d7fe8802-480d-41d6-af4b-a312b88ba96b",
   "metadata": {},
   "outputs": [],
   "source": [
    "# will do live"
   ]
  }
 ],
 "metadata": {
  "kernelspec": {
   "display_name": "Python 3 (ipykernel)",
   "language": "python",
   "name": "python3"
  },
  "language_info": {
   "codemirror_mode": {
    "name": "ipython",
    "version": 3
   },
   "file_extension": ".py",
   "mimetype": "text/x-python",
   "name": "python",
   "nbconvert_exporter": "python",
   "pygments_lexer": "ipython3",
   "version": "3.9.5"
  }
 },
 "nbformat": 4,
 "nbformat_minor": 5
}
