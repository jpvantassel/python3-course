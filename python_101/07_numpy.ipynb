{
 "cells": [
  {
   "cell_type": "markdown",
   "id": "90da8903-648b-4bb2-ad20-0394afa597d3",
   "metadata": {},
   "source": [
    "# `numpy`\n",
    "\n",
    "> Joseph P. Vantassel\n",
    "\n",
    "This notebook presents a brief overview of `numpy` for numerical operations in Python."
   ]
  },
  {
   "cell_type": "markdown",
   "id": "ef2b7b6c-0582-4100-a7dc-6bc95afddca6",
   "metadata": {},
   "source": [
    "## What is `numpy`\n",
    "\n",
    "- `numpy` is an open-source Python package for numerical operations in Python.\n",
    "- It is built primarily using c-compiled extensions, meaning it is fast and memory efficient.\n",
    "- `numpy` is not part of the standard library and therefore needs to installed.\n",
    "- We can install it using `pip` as follows, do not forget to restart your kernel after the installation."
   ]
  },
  {
   "cell_type": "code",
   "execution_count": 2,
   "id": "4d9924c6-9119-4151-b1cb-ed09f888273f",
   "metadata": {},
   "outputs": [
    {
     "name": "stdout",
     "output_type": "stream",
     "text": [
      "Requirement already satisfied: numpy in ./venv/lib/python3.9/site-packages (1.20.0)\n"
     ]
    }
   ],
   "source": [
    "!pip install numpy"
   ]
  },
  {
   "cell_type": "code",
   "execution_count": 3,
   "id": "09fae749-4be2-4cea-a50a-7fc42a2604b2",
   "metadata": {},
   "outputs": [],
   "source": [
    "import numpy as np"
   ]
  },
  {
   "cell_type": "markdown",
   "id": "fb161adb-bf49-4676-a732-04eb7a1ae8d4",
   "metadata": {},
   "source": [
    "## `ndarray`\n",
    "\n",
    "- The fundemental building block of `numpy` is the n-dimensional array `ndarray`.\n",
    "- We can create an `ndarray` from any Python `iterable` (e.g., `list`, `tuple`, etc.).\n",
    "- Arrays are by default row-major (i.e., c-style). Although you can also do column major."
   ]
  },
  {
   "cell_type": "markdown",
   "id": "320b0bd8-cdf4-4de0-b461-2b05d0f8cf2d",
   "metadata": {},
   "source": [
    "### 1D array"
   ]
  },
  {
   "cell_type": "code",
   "execution_count": 8,
   "id": "886f8ab5-a6cb-4e1d-808f-8c1294da889b",
   "metadata": {},
   "outputs": [
    {
     "name": "stdout",
     "output_type": "stream",
     "text": [
      "[0 1 1 2 3]\n",
      "<class 'numpy.ndarray'>\n"
     ]
    }
   ],
   "source": [
    "my_1d_array = np.array([0, 1, 1, 2, 3])\n",
    "print(my_1d_array)\n",
    "print(type(my_1d_array))"
   ]
  },
  {
   "cell_type": "code",
   "execution_count": 13,
   "id": "f2a0d5d4-6dda-453f-a372-23b2e5d4add3",
   "metadata": {},
   "outputs": [
    {
     "name": "stdout",
     "output_type": "stream",
     "text": [
      "length 5\n",
      "shape (5,)\n",
      "size 5\n",
      "dtype int64\n"
     ]
    }
   ],
   "source": [
    "print(\"length\", len(my_1d_array))\n",
    "print(\"shape\", my_1d_array.shape)\n",
    "print(\"size\", my_1d_array.size)\n",
    "print(\"dtype\", my_1d_array.dtype)"
   ]
  },
  {
   "cell_type": "markdown",
   "id": "63c1c3ab-39a1-4ad4-8c1b-f95442546017",
   "metadata": {},
   "source": [
    "### 2D array - Matrix"
   ]
  },
  {
   "cell_type": "code",
   "execution_count": 22,
   "id": "256cfc84-1747-44d7-b6e8-cdf76c902aa4",
   "metadata": {},
   "outputs": [
    {
     "name": "stdout",
     "output_type": "stream",
     "text": [
      "[[1 1 1]\n",
      " [2 2 2]\n",
      " [3 3 3]]\n",
      "<class 'numpy.ndarray'>\n"
     ]
    }
   ],
   "source": [
    "my_2d_array = np.array([[1,1,1],[2,2,2],[3,3,3,]], dtype=None)\n",
    "print(my_2d_array)\n",
    "print(type(my_2d_array))"
   ]
  },
  {
   "cell_type": "code",
   "execution_count": 23,
   "id": "fe8f5135-7e65-4988-9650-fcdffd831e9c",
   "metadata": {},
   "outputs": [
    {
     "name": "stdout",
     "output_type": "stream",
     "text": [
      "length 3\n",
      "shape (3, 3)\n",
      "size 9\n",
      "dtype int64\n"
     ]
    }
   ],
   "source": [
    "print(\"length\", len(my_2d_array))\n",
    "print(\"shape\", my_2d_array.shape)\n",
    "print(\"size\", my_2d_array.size)\n",
    "print(\"dtype\", my_2d_array.dtype)"
   ]
  },
  {
   "cell_type": "markdown",
   "id": "415149ef-f88f-41fb-8671-55aa8033c94b",
   "metadata": {},
   "source": [
    "## Tools\n",
    "\n",
    "There is an incredible amount of operations you can perform with `numpy`.\n",
    "\n",
    "We could easily spend several days covering it in detail.\n",
    "\n",
    "To list a few of its most helpful features:\n",
    "\n",
    "- linear algebra (`np.linalg`)\n",
    "- Fourier transform (`np.fft`)\n",
    "- Random number generation (`np.random`)\n",
    "- Library of handy matrices (`np.matlib`)\n",
    "- Input/Output (`.npy` and `.npy` file formats)\n",
    "\n",
    "But after this course you go to [numpy.org](https://numpy.org/doc/stable/reference/routines.html) and look at everything `numpy` has to offer."
   ]
  },
  {
   "cell_type": "code",
   "execution_count": null,
   "id": "2b4a66b7-effd-4111-80f9-aff82a6eb80d",
   "metadata": {},
   "outputs": [],
   "source": []
  }
 ],
 "metadata": {
  "kernelspec": {
   "display_name": "Python 3 (ipykernel)",
   "language": "python",
   "name": "python3"
  },
  "language_info": {
   "codemirror_mode": {
    "name": "ipython",
    "version": 3
   },
   "file_extension": ".py",
   "mimetype": "text/x-python",
   "name": "python",
   "nbconvert_exporter": "python",
   "pygments_lexer": "ipython3",
   "version": "3.9.5"
  }
 },
 "nbformat": 4,
 "nbformat_minor": 5
}
