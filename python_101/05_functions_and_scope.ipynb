{
 "cells": [
  {
   "cell_type": "markdown",
   "id": "76ba6241-509d-443f-8960-1a4befb653d8",
   "metadata": {},
   "source": [
    "# Functions and Scope\n",
    "\n",
    "> Joseph P. Vantassel\n",
    "\n",
    "This notebook covers the basics of Python functions with an empahsis on scope."
   ]
  },
  {
   "cell_type": "markdown",
   "id": "a8c5a03e-9a35-4303-bef6-3b2b8da64f0f",
   "metadata": {},
   "source": [
    "## Defining a Function\n",
    "\n",
    "- If you reuse a piece of code it is recommeneded to take that code and place it in a function.\n",
    "- Functions are defined using the `def` keyword in Python."
   ]
  },
  {
   "cell_type": "code",
   "execution_count": 1,
   "id": "8ea641c4-cd89-4d6f-ad54-97b051104675",
   "metadata": {},
   "outputs": [],
   "source": [
    "def is_even(x): # x here is an argument; note the `:` at the end of the line\n",
    "    if x % 2 == 0:\n",
    "        return True # return passes the value out of scope and exists the function\n",
    "    else:\n",
    "        return False"
   ]
  },
  {
   "cell_type": "code",
   "execution_count": 2,
   "id": "d7b27586-e366-403f-b3f4-882770345f34",
   "metadata": {},
   "outputs": [
    {
     "name": "stdout",
     "output_type": "stream",
     "text": [
      "True\n",
      "False\n",
      "True\n",
      "False\n",
      "True\n"
     ]
    }
   ],
   "source": [
    "print(is_even(4)) # True\n",
    "print(is_even(3)) # False\n",
    "print(is_even(0)) # True\n",
    "print(is_even(-1)) # False\n",
    "print(is_even(-2)) # True"
   ]
  },
  {
   "cell_type": "code",
   "execution_count": 3,
   "id": "ee1758a6-1ee4-468f-a8f3-0949800cc9c9",
   "metadata": {},
   "outputs": [],
   "source": [
    "def fib(nfib):\n",
    "    \"Return `nfib` terms of the Fibonnaci sequence\"\n",
    "    fib_list = [0,1]\n",
    "    for _ in range(2, nfib):\n",
    "        fib_list.append(fib_list[-1] + fib_list[-2])\n",
    "    return fib_list"
   ]
  },
  {
   "cell_type": "code",
   "execution_count": 4,
   "id": "fbfcc395-31c5-45eb-9abf-ba5a41a420e2",
   "metadata": {},
   "outputs": [
    {
     "name": "stdout",
     "output_type": "stream",
     "text": [
      "[0, 1, 1, 2, 3, 5, 8, 13, 21, 34]\n",
      "10\n"
     ]
    }
   ],
   "source": [
    "myfib = fib(10)\n",
    "print(myfib)\n",
    "print(len(myfib))"
   ]
  },
  {
   "cell_type": "markdown",
   "id": "5e3722c5-3cb4-405f-a458-d37d3edf4a55",
   "metadata": {},
   "source": [
    "Note that we cannot access `fib_list` because it is in the function's scope."
   ]
  },
  {
   "cell_type": "code",
   "execution_count": 5,
   "id": "070bfe97-ab46-4a5f-8b8b-1a6f9d91d5f9",
   "metadata": {},
   "outputs": [],
   "source": [
    "# fib_list # will raise a NameError"
   ]
  },
  {
   "cell_type": "markdown",
   "id": "656b0c10-6967-4b5f-8ef3-6a46106edb52",
   "metadata": {},
   "source": [
    "## Practice Problem\n",
    "\n",
    "What is wrong with the function `broken_fib` below?"
   ]
  },
  {
   "cell_type": "code",
   "execution_count": 6,
   "id": "92f0c624-42ea-4a15-9de6-497dfe179e49",
   "metadata": {},
   "outputs": [],
   "source": [
    "def broken_fib(nfib):\n",
    "    \"Return `nfib` terms of the Fibonnaci sequence\"\n",
    "    myfibs = [0, 1]\n",
    "    for _ in range(2, nfib):\n",
    "        myfib.append(myfib[-1] + myfib[-2])\n",
    "    return myfib"
   ]
  },
  {
   "cell_type": "code",
   "execution_count": 7,
   "id": "d92be1de-138f-40d8-9334-7c0d3ef1b9c9",
   "metadata": {},
   "outputs": [
    {
     "name": "stdout",
     "output_type": "stream",
     "text": [
      "[0, 1, 1, 2, 3, 5, 8, 13, 21, 34, 55, 89] 12\n"
     ]
    }
   ],
   "source": [
    "fibs = broken_fib(4)\n",
    "print(fibs, len(fibs))"
   ]
  },
  {
   "cell_type": "markdown",
   "id": "3f7287ff-55a2-4547-b331-95a7c5971855",
   "metadata": {
    "jupyter": {
     "source_hidden": true
    },
    "tags": []
   },
   "source": [
    "### Practice problem solution\n",
    "\n",
    "- We forgot to change `fib_list` to `myfib`.\n",
    "- As a result `myfib` is being pulled from the `global` scope (i.e., outside the function)."
   ]
  },
  {
   "cell_type": "markdown",
   "id": "fe655f71-e156-4217-a537-9fd968cf3e43",
   "metadata": {
    "tags": []
   },
   "source": [
    "## How do we find and fix errors like this?\n",
    "\n",
    "- Test your code.\n",
    "- Restart your kernel and create a minimal running example.\n",
    "- Write functions in another file called a `module` and `import` them (best approach!)."
   ]
  },
  {
   "cell_type": "code",
   "execution_count": null,
   "id": "82b58f8b-f277-4f26-b2df-b0157cae1771",
   "metadata": {},
   "outputs": [],
   "source": []
  }
 ],
 "metadata": {
  "kernelspec": {
   "display_name": "Python 3 (ipykernel)",
   "language": "python",
   "name": "python3"
  },
  "language_info": {
   "codemirror_mode": {
    "name": "ipython",
    "version": 3
   },
   "file_extension": ".py",
   "mimetype": "text/x-python",
   "name": "python",
   "nbconvert_exporter": "python",
   "pygments_lexer": "ipython3",
   "version": "3.9.5"
  }
 },
 "nbformat": 4,
 "nbformat_minor": 5
}
