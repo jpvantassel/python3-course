{
 "cells": [
  {
   "cell_type": "markdown",
   "id": "07b26bfd-9ae2-4240-b173-4c6e4748cbed",
   "metadata": {},
   "source": [
    "# Basic Types and Mathematics\n",
    "\n",
    "> Joseph P. Vantassel\n",
    "\n",
    "This notebook present Python's basic types and mathematical operations."
   ]
  },
  {
   "cell_type": "markdown",
   "id": "d86bbbc3-ad5b-4154-a6cf-cd5fd8ba1b19",
   "metadata": {},
   "source": [
    "## Obligatory `Hello World`\n",
    "\n",
    "`print` here is built-in function."
   ]
  },
  {
   "cell_type": "code",
   "execution_count": 1,
   "id": "e3f7753a-a84b-41b6-b79c-064b6bee82bf",
   "metadata": {},
   "outputs": [
    {
     "name": "stdout",
     "output_type": "stream",
     "text": [
      "Hello World!\n"
     ]
    }
   ],
   "source": [
    "print(\"Hello World!\")"
   ]
  },
  {
   "cell_type": "markdown",
   "id": "7a6d48e6-a1c9-4b51-81d1-023f2e467bd6",
   "metadata": {},
   "source": [
    "_Note that in Jupyter the last line of a code cell is printed by default, while this can be helpful at times, it is generally considered bad practice to rely on this behavior._"
   ]
  },
  {
   "cell_type": "code",
   "execution_count": 5,
   "id": "515e2f4f-0ca4-483a-b2f1-b2eb6b4ed8be",
   "metadata": {},
   "outputs": [
    {
     "data": {
      "text/plain": [
       "'Hello World!'"
      ]
     },
     "execution_count": 5,
     "metadata": {},
     "output_type": "execute_result"
    }
   ],
   "source": [
    "\"Hello World!\" # permissible, but generally considered bad practice"
   ]
  },
  {
   "cell_type": "markdown",
   "id": "a2d17b7c-ef09-433e-8fec-59d2004e6cf9",
   "metadata": {},
   "source": [
    "## Basic Types"
   ]
  },
  {
   "cell_type": "markdown",
   "id": "88f2fade-79ec-40ea-b28e-a27d3d78299c",
   "metadata": {},
   "source": [
    "### Numerics"
   ]
  },
  {
   "cell_type": "code",
   "execution_count": 6,
   "id": "dc2b0f43-3691-4887-9694-41ab01f39e55",
   "metadata": {},
   "outputs": [
    {
     "name": "stdout",
     "output_type": "stream",
     "text": [
      "<class 'int'>\n"
     ]
    }
   ],
   "source": [
    "integer = 1\n",
    "print(type(integer))"
   ]
  },
  {
   "cell_type": "code",
   "execution_count": 23,
   "id": "8d1266a9-206e-44f7-9607-cc8ebebbf069",
   "metadata": {},
   "outputs": [
    {
     "name": "stdout",
     "output_type": "stream",
     "text": [
      "<class 'float'>\n"
     ]
    }
   ],
   "source": [
    "integer = 1.\n",
    "print(type(integer))"
   ]
  },
  {
   "cell_type": "code",
   "execution_count": 8,
   "id": "37d60e7e-d127-4535-9573-258c246ec8a3",
   "metadata": {},
   "outputs": [
    {
     "name": "stdout",
     "output_type": "stream",
     "text": [
      "<class 'float'>\n"
     ]
    }
   ],
   "source": [
    "floating_point = 3.14\n",
    "print(type(floating_point))"
   ]
  },
  {
   "cell_type": "markdown",
   "id": "2b777a42-0fd7-4394-98a1-5e62ba82956d",
   "metadata": {},
   "source": [
    "### Logicals"
   ]
  },
  {
   "cell_type": "code",
   "execution_count": 1,
   "id": "a271d528-d6a4-4d00-a588-391df40ce86a",
   "metadata": {},
   "outputs": [
    {
     "name": "stdout",
     "output_type": "stream",
     "text": [
      "<class 'bool'>\n"
     ]
    }
   ],
   "source": [
    "boolean = True\n",
    "print(type(boolean))"
   ]
  },
  {
   "cell_type": "code",
   "execution_count": 3,
   "id": "6eb7e339-422f-4efb-b257-2137c64d1c83",
   "metadata": {},
   "outputs": [
    {
     "name": "stdout",
     "output_type": "stream",
     "text": [
      "<class 'NoneType'>\n"
     ]
    }
   ],
   "source": [
    "none = None\n",
    "print(type(none))"
   ]
  },
  {
   "cell_type": "markdown",
   "id": "66a32f13-e94d-46f5-8a8d-39ed68027b30",
   "metadata": {},
   "source": [
    "### Strings"
   ]
  },
  {
   "cell_type": "code",
   "execution_count": 10,
   "id": "f72168bd-1298-4cb7-badd-c15db1a531cc",
   "metadata": {},
   "outputs": [
    {
     "name": "stdout",
     "output_type": "stream",
     "text": [
      "<class 'str'>\n"
     ]
    }
   ],
   "source": [
    "string_double_quote = \"this is a string\"\n",
    "print(type(string_double_quote))"
   ]
  },
  {
   "cell_type": "code",
   "execution_count": 11,
   "id": "3f50e0d8-3c7e-490d-a582-b4ca05fbc4b1",
   "metadata": {},
   "outputs": [
    {
     "name": "stdout",
     "output_type": "stream",
     "text": [
      "<class 'str'>\n"
     ]
    }
   ],
   "source": [
    "string_single_quote = \"this is also a string\"\n",
    "print(type(string_double_quote))"
   ]
  },
  {
   "cell_type": "code",
   "execution_count": 13,
   "id": "15074490-9522-4a16-a095-72242ebf96aa",
   "metadata": {},
   "outputs": [
    {
     "name": "stdout",
     "output_type": "stream",
     "text": [
      "<class 'str'>\n"
     ]
    }
   ],
   "source": [
    "string_single_in_double = \"this is a 'quote' within a string\"\n",
    "print(type(string_single_in_double))"
   ]
  },
  {
   "cell_type": "markdown",
   "id": "44aef824-dd5a-44fb-9e17-0406ffb34fbb",
   "metadata": {},
   "source": [
    "## Basic Mathematics"
   ]
  },
  {
   "cell_type": "markdown",
   "id": "91efd710-76e9-4553-a6bd-c2a42a88695c",
   "metadata": {},
   "source": [
    "### Addition"
   ]
  },
  {
   "cell_type": "code",
   "execution_count": 14,
   "id": "0f7b17f0-f910-4e67-8fc9-43b05497eaea",
   "metadata": {},
   "outputs": [
    {
     "name": "stdout",
     "output_type": "stream",
     "text": [
      "1824\n"
     ]
    }
   ],
   "source": [
    "solution_add = 1820 + 4\n",
    "print(solution_add)"
   ]
  },
  {
   "cell_type": "markdown",
   "id": "0c5da8ab-4b96-4e59-9a22-7c81496af957",
   "metadata": {},
   "source": [
    "### Subtraction"
   ]
  },
  {
   "cell_type": "code",
   "execution_count": 15,
   "id": "a59a75b4-4fc4-40b7-8af0-d57f825da386",
   "metadata": {},
   "outputs": [
    {
     "name": "stdout",
     "output_type": "stream",
     "text": [
      "1824\n"
     ]
    }
   ],
   "source": [
    "solution_subtraction = 1830 - 6\n",
    "print(solution_subtraction)"
   ]
  },
  {
   "cell_type": "markdown",
   "id": "92ef94d0-3282-4f04-8603-4c7c3d668618",
   "metadata": {},
   "source": [
    "### Multiplication"
   ]
  },
  {
   "cell_type": "code",
   "execution_count": 16,
   "id": "0d00dcde-b304-4cbb-9cbf-43f26feccbd6",
   "metadata": {},
   "outputs": [
    {
     "name": "stdout",
     "output_type": "stream",
     "text": [
      "1824\n"
     ]
    }
   ],
   "source": [
    "solution_multiplication = 2 * 912\n",
    "print(solution_multiplication)"
   ]
  },
  {
   "cell_type": "markdown",
   "id": "3f3fd555-d9a1-4561-9ae8-9efa2569c7a1",
   "metadata": {},
   "source": [
    "### Division"
   ]
  },
  {
   "cell_type": "markdown",
   "id": "54b3c3c1-4c3d-4551-8737-bd4d7d78888b",
   "metadata": {},
   "source": [
    "#### Floating Point Division"
   ]
  },
  {
   "cell_type": "code",
   "execution_count": 18,
   "id": "616e3ad1-d167-4a6d-bc84-b8a751b40545",
   "metadata": {},
   "outputs": [
    {
     "name": "stdout",
     "output_type": "stream",
     "text": [
      "1824.0\n"
     ]
    }
   ],
   "source": [
    "solution_division = 3648 / 2\n",
    "print(solution_division) # note the .0 indicates its a float"
   ]
  },
  {
   "cell_type": "markdown",
   "id": "995023b1-bca7-4418-98b8-1cc98aab4095",
   "metadata": {},
   "source": [
    "#### Integer Division"
   ]
  },
  {
   "cell_type": "code",
   "execution_count": 19,
   "id": "98e38d1f-a8fb-4774-838f-6a3b7702d0cf",
   "metadata": {},
   "outputs": [
    {
     "name": "stdout",
     "output_type": "stream",
     "text": [
      "1824\n"
     ]
    }
   ],
   "source": [
    "solution_division = 3648 // 2\n",
    "print(solution_division) # no .0 indicate an integer"
   ]
  },
  {
   "cell_type": "markdown",
   "id": "253cd6c1-2ebf-4ae5-9af2-edbaaca0c19e",
   "metadata": {},
   "source": [
    "### Modulo (i.e., remainder after division)"
   ]
  },
  {
   "cell_type": "code",
   "execution_count": 22,
   "id": "1164a800-1d0c-4ff6-8b27-ac9131fb4800",
   "metadata": {},
   "outputs": [
    {
     "name": "stdout",
     "output_type": "stream",
     "text": [
      "1\n"
     ]
    }
   ],
   "source": [
    "solution_modulo = 10 % 3\n",
    "print(solution_modulo)"
   ]
  },
  {
   "cell_type": "markdown",
   "id": "bfa475d7-d8ea-45e3-8785-e53710ba400f",
   "metadata": {},
   "source": [
    "### Exponent ($a^b$)"
   ]
  },
  {
   "cell_type": "code",
   "execution_count": 21,
   "id": "02806890-ac70-4bc5-84fd-04da7f9c0f0b",
   "metadata": {},
   "outputs": [
    {
     "name": "stdout",
     "output_type": "stream",
     "text": [
      "256\n"
     ]
    }
   ],
   "source": [
    "solution_power = 2 ** 8\n",
    "print(solution_power)"
   ]
  },
  {
   "cell_type": "markdown",
   "id": "ffc33ea5-d853-403e-8913-29aa7fff5aca",
   "metadata": {},
   "source": [
    "## Looking for more?\n",
    "\n",
    "For example:\n",
    "- Constants like $\\pi$ and $e$.\n",
    "- Functions like $sin()$ and $cos()$."
   ]
  },
  {
   "cell_type": "markdown",
   "id": "9f75e9e3-6736-45c7-bada-1f4ed87189dd",
   "metadata": {},
   "source": [
    "## The `math` Module of the Standard Library\n",
    "\n",
    "For this we can use the standard librarys math module (there are other ways that we will touch on later).\n",
    "The `math` module of the standard library provides access to all of the functions defined in the C standard."
   ]
  },
  {
   "cell_type": "markdown",
   "id": "93512fb5-cf35-4c0d-a9b3-913567bdd7e7",
   "metadata": {},
   "source": [
    "### Getting Started\n",
    "\n",
    "To start using the `math` module from the standard library we need to import it."
   ]
  },
  {
   "cell_type": "code",
   "execution_count": 24,
   "id": "21a4a762-2b4b-4614-b7ab-f062e2514054",
   "metadata": {},
   "outputs": [],
   "source": [
    "import math"
   ]
  },
  {
   "cell_type": "code",
   "execution_count": 26,
   "id": "6aae2ac5-ce9a-4766-9977-c2d6ea7243ee",
   "metadata": {},
   "outputs": [
    {
     "name": "stdout",
     "output_type": "stream",
     "text": [
      "<class 'module'>\n"
     ]
    }
   ],
   "source": [
    "print(type(math)) # we can see it is of type module"
   ]
  },
  {
   "cell_type": "markdown",
   "id": "b2cb036e-f7af-4321-88df-7d18c5e4ad25",
   "metadata": {},
   "source": [
    "### Using the `math` Module\n",
    "\n",
    "The math module is full of very helpful constants and functions,\n",
    "you can read more about what the math module offers in the\n",
    "[official Python documentation](https://docs.python.org/3/library/math.html).\n",
    "\n",
    "Below are few examples."
   ]
  },
  {
   "cell_type": "code",
   "execution_count": 30,
   "id": "a929d8ba-ab0d-4f6c-8a8a-e874c551d939",
   "metadata": {},
   "outputs": [
    {
     "name": "stdout",
     "output_type": "stream",
     "text": [
      "3.141592653589793\n"
     ]
    }
   ],
   "source": [
    "print(math.pi)"
   ]
  },
  {
   "cell_type": "code",
   "execution_count": 32,
   "id": "58466a62-2d7c-41f7-94e2-6a467d10b850",
   "metadata": {},
   "outputs": [
    {
     "name": "stdout",
     "output_type": "stream",
     "text": [
      "2.718281828459045\n"
     ]
    }
   ],
   "source": [
    "print(math.e)"
   ]
  },
  {
   "cell_type": "code",
   "execution_count": 29,
   "id": "545de691-c1b3-42fc-982b-7b4f305e8435",
   "metadata": {},
   "outputs": [
    {
     "name": "stdout",
     "output_type": "stream",
     "text": [
      "sin(pi/2) = 1.0\n"
     ]
    }
   ],
   "source": [
    "solution_sin = math.sin(math.pi/2)\n",
    "print(f\"sin(pi/2) = {solution_sin}\") # these are called f-strings and they are extremely handy."
   ]
  },
  {
   "cell_type": "code",
   "execution_count": 34,
   "id": "a655cd22-23ca-40f9-80f8-109c6ccd7569",
   "metadata": {},
   "outputs": [
    {
     "name": "stdout",
     "output_type": "stream",
     "text": [
      "sin(x)^2 + cos(x)^2 = 1.0\n"
     ]
    }
   ],
   "source": [
    "angle_in_radians = math.pi/2\n",
    "solution_trig = math.sin(angle_in_radians)**2 + math.cos(angle_in_radians)**2\n",
    "print(f\"sin(x)^2 + cos(x)^2 = {solution_trig}\")"
   ]
  },
  {
   "cell_type": "code",
   "execution_count": null,
   "id": "ce8db414-d1c4-4bc5-82af-7bf8f241c81d",
   "metadata": {},
   "outputs": [],
   "source": []
  }
 ],
 "metadata": {
  "kernelspec": {
   "display_name": "Python 3 (ipykernel)",
   "language": "python",
   "name": "python3"
  },
  "language_info": {
   "codemirror_mode": {
    "name": "ipython",
    "version": 3
   },
   "file_extension": ".py",
   "mimetype": "text/x-python",
   "name": "python",
   "nbconvert_exporter": "python",
   "pygments_lexer": "ipython3",
   "version": "3.9.5"
  }
 },
 "nbformat": 4,
 "nbformat_minor": 5
}
