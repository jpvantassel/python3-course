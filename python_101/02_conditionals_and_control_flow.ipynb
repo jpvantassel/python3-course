{
 "cells": [
  {
   "cell_type": "markdown",
   "id": "8111e03c-2ef4-4426-a358-e6bd4435f7b2",
   "metadata": {},
   "source": [
    "# Conditional Statements and Control Flow\n",
    "\n",
    "> Joseph P. Vantassel\n",
    "\n",
    "This notebook includes an introduction to conditional statements and the basics of control flow."
   ]
  },
  {
   "cell_type": "markdown",
   "id": "804f74cb-7d99-4d26-97df-0c52b1a8063c",
   "metadata": {},
   "source": [
    "## Conditonal Statements"
   ]
  },
  {
   "cell_type": "markdown",
   "id": "eee876f6-ca19-4bf0-b1dd-c97becb57daf",
   "metadata": {},
   "source": [
    "### Equal - `==`\n",
    "\n",
    "- Asserts two objects are equivalent, but not necessarily the same."
   ]
  },
  {
   "cell_type": "code",
   "execution_count": 1,
   "id": "402f1d23-0f55-4b58-b954-361e6fd9432e",
   "metadata": {},
   "outputs": [
    {
     "name": "stdout",
     "output_type": "stream",
     "text": [
      "True\n"
     ]
    }
   ],
   "source": [
    "val1 = 4\n",
    "val2 = 4\n",
    "print(val1 == val2) # True"
   ]
  },
  {
   "cell_type": "code",
   "execution_count": 2,
   "id": "3d23ae49-bd31-4837-84e7-a4a9099a46f3",
   "metadata": {},
   "outputs": [
    {
     "name": "stdout",
     "output_type": "stream",
     "text": [
      "True\n"
     ]
    }
   ],
   "source": [
    "val1 = \"This is my string\"\n",
    "val2 = \"This is my string\"\n",
    "print(val1 == val2) # True"
   ]
  },
  {
   "cell_type": "markdown",
   "id": "785f7725-68a9-48bb-bbf1-47a0f0d383aa",
   "metadata": {},
   "source": [
    "### Not Equal - `!=`\n",
    "\n",
    "- Asserts two objects are not equivalent."
   ]
  },
  {
   "cell_type": "code",
   "execution_count": 3,
   "id": "381d6cf6-eeae-4cfb-bd75-fdeb7565b7c9",
   "metadata": {},
   "outputs": [
    {
     "name": "stdout",
     "output_type": "stream",
     "text": [
      "True\n"
     ]
    }
   ],
   "source": [
    "val1 = 3\n",
    "val2 = 4\n",
    "print(val1 != val2) # True"
   ]
  },
  {
   "cell_type": "code",
   "execution_count": 4,
   "id": "5cdf49d4-dd60-452f-9fd2-1a6c713c6480",
   "metadata": {},
   "outputs": [
    {
     "name": "stdout",
     "output_type": "stream",
     "text": [
      "True\n"
     ]
    }
   ],
   "source": [
    "val1 = \"This is my string\"\n",
    "val2 = \"This is my other string\"\n",
    "print(val1 != val2) # True"
   ]
  },
  {
   "cell_type": "markdown",
   "id": "19f5551b-de15-48fc-87a9-353dfda06c72",
   "metadata": {},
   "source": [
    "### Greater Than - `>`\n",
    "\n",
    "- Assert object a is greater than object b.\n",
    "- Also greater than or equal to `>=`."
   ]
  },
  {
   "cell_type": "code",
   "execution_count": 6,
   "id": "7c3732b4-72eb-4b0e-9832-313d83094630",
   "metadata": {},
   "outputs": [
    {
     "name": "stdout",
     "output_type": "stream",
     "text": [
      "True\n"
     ]
    }
   ],
   "source": [
    "val1 = 1824\n",
    "val2 = 1883\n",
    "print(val2 > val1) # True"
   ]
  },
  {
   "cell_type": "markdown",
   "id": "07a3491c-05e7-42af-8969-0897e97fa8e7",
   "metadata": {},
   "source": [
    "### Less Than - `<`\n",
    "\n",
    "- Assert object b is less than object a.\n",
    "- Also less than or equal to `<=`."
   ]
  },
  {
   "cell_type": "code",
   "execution_count": 7,
   "id": "626a1d1f-79b9-411a-b3c0-2b4a187f10cd",
   "metadata": {},
   "outputs": [
    {
     "name": "stdout",
     "output_type": "stream",
     "text": [
      "True\n"
     ]
    }
   ],
   "source": [
    "val1 = 1.357\n",
    "val2 = 13.57\n",
    "print(val1 < val2) # True"
   ]
  },
  {
   "cell_type": "markdown",
   "id": "6a9eda66-b899-4346-a6ef-8ca2ab1e5613",
   "metadata": {},
   "source": [
    "### `and` and `or`\n",
    "\n",
    "- Python uses text-based `and` and `or` logical operators. Readability counts!"
   ]
  },
  {
   "cell_type": "code",
   "execution_count": 46,
   "id": "114855e0-e8b0-47f8-9ff7-2cb8bf65cbfd",
   "metadata": {},
   "outputs": [
    {
     "name": "stdout",
     "output_type": "stream",
     "text": [
      "True\n"
     ]
    }
   ],
   "source": [
    "value = 50\n",
    "print(value >= 0 and value <= 100) # see if value in range [0,100]"
   ]
  },
  {
   "cell_type": "markdown",
   "id": "7e158ffd-c70b-4b9d-9133-48d1a151ad97",
   "metadata": {},
   "source": [
    "_Note if the lack of paranetheses makes you uncomfortable you can add them in for the example above._"
   ]
  },
  {
   "cell_type": "code",
   "execution_count": 49,
   "id": "71a1aeb6-7806-4dbe-842b-646406801e96",
   "metadata": {},
   "outputs": [
    {
     "name": "stdout",
     "output_type": "stream",
     "text": [
      "True\n"
     ]
    }
   ],
   "source": [
    "value = 50\n",
    "print((value >= 0) and (value <= 100)) # as expected we get the same answer as above"
   ]
  },
  {
   "cell_type": "code",
   "execution_count": 47,
   "id": "d05d1f08-789d-4d8c-b5cf-685f3750d958",
   "metadata": {},
   "outputs": [
    {
     "name": "stdout",
     "output_type": "stream",
     "text": [
      "False\n"
     ]
    }
   ],
   "source": [
    "value = 50\n",
    "print(value < 0 or value > 100) # see if value outside the range [0,100]"
   ]
  },
  {
   "cell_type": "markdown",
   "id": "869816e4-5055-43c9-b17a-58a0138818ad",
   "metadata": {},
   "source": [
    "### `is`\n",
    "\n",
    "- The `is` conditional statement is similar to equal except that it assert a and b are the same object and not just equal in value."
   ]
  },
  {
   "cell_type": "code",
   "execution_count": 20,
   "id": "62f22fa7-7971-4c6a-9a7c-27e2c136244a",
   "metadata": {},
   "outputs": [
    {
     "name": "stdout",
     "output_type": "stream",
     "text": [
      "False\n",
      "140403929485648 != 140403929485840\n"
     ]
    }
   ],
   "source": [
    "val1 = 3.1415\n",
    "val2 = 3.1415\n",
    "print(val1 is val2) # False\n",
    "print(f\"{id(val1)} != {id(val2)}\") # locations in memory do not match"
   ]
  },
  {
   "cell_type": "code",
   "execution_count": 15,
   "id": "f3bcbd64-b5aa-48d4-b114-6f7ad17d3146",
   "metadata": {},
   "outputs": [
    {
     "name": "stdout",
     "output_type": "stream",
     "text": [
      "True\n",
      "140403929485648 == 140403929485648\n"
     ]
    }
   ],
   "source": [
    "val1 = 3.1415\n",
    "val2 = val1\n",
    "print(val1 is val2) # True\n",
    "print(f\"{id(val1)} == {id(val2)}\") # locations in memory match"
   ]
  },
  {
   "cell_type": "markdown",
   "id": "1ca7399e-26fd-413c-b0a0-e6c6ad91d043",
   "metadata": {},
   "source": [
    "You can combine is with not to make your code more readable."
   ]
  },
  {
   "cell_type": "code",
   "execution_count": 25,
   "id": "4efc74a3-2a7e-471c-ab62-eb4b0b3f542d",
   "metadata": {},
   "outputs": [
    {
     "name": "stdout",
     "output_type": "stream",
     "text": [
      "True\n"
     ]
    }
   ],
   "source": [
    "val1 = \"this\"\n",
    "val2 = None\n",
    "print(val1 is not val2) # True"
   ]
  },
  {
   "cell_type": "markdown",
   "id": "557bb6a7-a87d-4bce-a615-55326e2296ad",
   "metadata": {},
   "source": [
    "## Control Flow"
   ]
  },
  {
   "cell_type": "markdown",
   "id": "c74b5dfd-e6ea-4ce1-8d61-224eebf510d0",
   "metadata": {},
   "source": [
    "### `if`, `elif`, and `else`\n",
    "\n",
    "- Allows certain pieces of the code to execute based on some condition."
   ]
  },
  {
   "cell_type": "code",
   "execution_count": 29,
   "id": "168e80b5-8294-4bf4-b70b-080ad0f2326b",
   "metadata": {},
   "outputs": [
    {
     "name": "stdout",
     "output_type": "stream",
     "text": [
      "It is 11:00 PM\n"
     ]
    }
   ],
   "source": [
    "current_hour = 23  # from 0 to 23\n",
    "\n",
    "if current_hour < 12:\n",
    "    print(f\"It is {current_hour}:00 AM\")\n",
    "else:\n",
    "    print(f\"It is {current_hour-12}:00 PM\")"
   ]
  },
  {
   "cell_type": "markdown",
   "id": "af0f1bdb-1325-4e49-800c-956166e3101d",
   "metadata": {},
   "source": [
    "We can make this more robust by adding additional conditional statements."
   ]
  },
  {
   "cell_type": "code",
   "execution_count": 51,
   "id": "99926347-bd5a-461a-af65-75f34320230e",
   "metadata": {},
   "outputs": [
    {
     "name": "stdout",
     "output_type": "stream",
     "text": [
      "You entered an invalid hour\n"
     ]
    }
   ],
   "source": [
    "current_hour = -5  # from 0 to 23\n",
    "\n",
    "if current_hour == 0:\n",
    "    print(f\"It is 12:00 PM\")\n",
    "\n",
    "elif current_hour > 0 and current_hour < 12:\n",
    "    print(f\"It is {current_hour}:00 AM\")\n",
    "\n",
    "elif current_hour > 12 and current_hour < 24:\n",
    "    print(f\"It is {current_hour-12}:00 PM\")\n",
    "\n",
    "else:\n",
    "    print(f\"You entered an invalid hour\")"
   ]
  },
  {
   "cell_type": "markdown",
   "id": "063d580b-5bb4-496f-8827-e244a7c5da0d",
   "metadata": {},
   "source": [
    "### `try`, `except`, `else`, and `finally`\n",
    "\n",
    "This is an important but also an advanced topic, that we will skip for this training."
   ]
  },
  {
   "cell_type": "markdown",
   "id": "046fe985-f140-46ed-a0b1-f1021db7e8e0",
   "metadata": {},
   "source": [
    "## Practice Problem\n",
    "\n",
    "Take an integer $x$ and determine if it is even or odd.\n",
    "\n",
    "_Hints: Use the $%$ operator._"
   ]
  },
  {
   "cell_type": "code",
   "execution_count": null,
   "id": "837df190-688b-4f53-94ae-e112f2e899f2",
   "metadata": {},
   "outputs": [],
   "source": []
  }
 ],
 "metadata": {
  "kernelspec": {
   "display_name": "Python 3 (ipykernel)",
   "language": "python",
   "name": "python3"
  },
  "language_info": {
   "codemirror_mode": {
    "name": "ipython",
    "version": 3
   },
   "file_extension": ".py",
   "mimetype": "text/x-python",
   "name": "python",
   "nbconvert_exporter": "python",
   "pygments_lexer": "ipython3",
   "version": "3.9.5"
  }
 },
 "nbformat": 4,
 "nbformat_minor": 5
}
