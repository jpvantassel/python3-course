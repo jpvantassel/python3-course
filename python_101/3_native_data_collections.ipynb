{
 "cells": [
  {
   "cell_type": "markdown",
   "id": "ca6e407e-7c44-4095-9cd3-23613986d78d",
   "metadata": {},
   "source": [
    "# Native Data Collections (a.k.a. Data Structures)\n",
    "\n",
    "> Joseph P. Vantassel\n",
    "\n",
    "This notebook illustrates some of the built-in ways you can store and manipulate data in Python."
   ]
  },
  {
   "cell_type": "markdown",
   "id": "36901982-2564-495b-b283-c87474815d6d",
   "metadata": {
    "tags": []
   },
   "source": [
    "## List - `[<entry>,...]`\n",
    "\n",
    "- Lists are ordered.\n",
    "- Lists are callable by index.\n",
    "- Lists are mutable (can be changed).\n",
    "\n",
    "\n",
    "See the [official Python documentation](https://docs.python.org/3/tutorial/datastructures.html#more-on-lists) for more.\n"
   ]
  },
  {
   "cell_type": "code",
   "execution_count": 7,
   "id": "34b2f73c-d47d-422b-a8d0-6a5c383ad8d9",
   "metadata": {},
   "outputs": [
    {
     "name": "stdout",
     "output_type": "stream",
     "text": [
      "[1, 2, 3]\n"
     ]
    }
   ],
   "source": [
    "# lists are ordered collections\n",
    "my_list_of_ints = [1, 2, 3]\n",
    "print(my_list_of_ints)"
   ]
  },
  {
   "cell_type": "code",
   "execution_count": 8,
   "id": "358859a4-2cfa-44a7-ab6b-dddab65d24dd",
   "metadata": {},
   "outputs": [
    {
     "name": "stdout",
     "output_type": "stream",
     "text": [
      "1\n"
     ]
    }
   ],
   "source": [
    "# callable by index using braces. Note Python starts from zero!\n",
    "first_entry = my_list_of_ints[0]\n",
    "print(first_entry)"
   ]
  },
  {
   "cell_type": "code",
   "execution_count": 9,
   "id": "fd30e164-51f3-4362-8b1b-aac8bb29261f",
   "metadata": {},
   "outputs": [
    {
     "name": "stdout",
     "output_type": "stream",
     "text": [
      "[5, 2, 3]\n"
     ]
    }
   ],
   "source": [
    "# lists are mutable, can be changed.\n",
    "my_list_of_ints[0] = 5\n",
    "print(my_list_of_ints)"
   ]
  },
  {
   "cell_type": "code",
   "execution_count": 22,
   "id": "65319ffd-78d7-4500-842d-f88761a7017a",
   "metadata": {},
   "outputs": [
    {
     "name": "stdout",
     "output_type": "stream",
     "text": [
      "[5, 2, 3, 9]\n"
     ]
    }
   ],
   "source": [
    "# can append to a list\n",
    "my_list_of_ints.append(9)\n",
    "print(my_list_of_ints)"
   ]
  },
  {
   "cell_type": "markdown",
   "id": "4384b7f2-ce19-48c7-a19c-9a9e3a9b5c56",
   "metadata": {},
   "source": [
    "## Dictionary - `{<key>:<value>,...}`\n",
    "\n",
    "- Dictionaries (or maps as they are known in other languages) are generally unordered.*\n",
    "- Dictionaries consist of `key` - `value` pairs.\n",
    "- Dictionaries are mutable.\n",
    "\n",
    "See the [official Python documentation](https://docs.python.org/3/tutorial/datastructures.html#dictionaries) for more.\n",
    "\n",
    "_*However, they have been insertion ordered in Python since 3.6. As not everyone knows this, it is generally recommended to avoid relying on this to imporve reability._"
   ]
  },
  {
   "cell_type": "code",
   "execution_count": 2,
   "id": "c96fa99b-cb97-490c-9d30-6d19240cd79f",
   "metadata": {},
   "outputs": [
    {
     "name": "stdout",
     "output_type": "stream",
     "text": [
      "{'canada': 'ottawa', 'united states': 'washington, d.c.'}\n"
     ]
    }
   ],
   "source": [
    "mydict_of_captitals = {\"canada\":\"ottawa\", \"united states\":\"washington, d.c.\"}\n",
    "print(mydict_of_captitals)"
   ]
  },
  {
   "cell_type": "code",
   "execution_count": 3,
   "id": "5f245b94-905d-4779-a7d3-9a385ffa65b8",
   "metadata": {},
   "outputs": [
    {
     "name": "stdout",
     "output_type": "stream",
     "text": [
      "washington, d.c.\n"
     ]
    }
   ],
   "source": [
    "print(mydict_of_captitals[\"united states\"])"
   ]
  },
  {
   "cell_type": "code",
   "execution_count": 4,
   "id": "904df929-05a0-4493-b964-48b66e153146",
   "metadata": {},
   "outputs": [
    {
     "name": "stdout",
     "output_type": "stream",
     "text": [
      "{'canada': 'ottawa', 'united states': 'washington, d.c.', 'germany': 'berlin'}\n"
     ]
    }
   ],
   "source": [
    "mydict_of_captitals[\"germany\"] = \"berlin\"\n",
    "print(mydict_of_captitals)"
   ]
  },
  {
   "cell_type": "code",
   "execution_count": 5,
   "id": "d48ba6c0-c241-4ff2-a9e0-4f9f03f58b50",
   "metadata": {},
   "outputs": [
    {
     "name": "stdout",
     "output_type": "stream",
     "text": [
      "{'canada': 'ottawa', 'united states': 'washington, d.c.'}\n"
     ]
    }
   ],
   "source": [
    "del mydict_of_captitals[\"germany\"]\n",
    "print(mydict_of_captitals)"
   ]
  },
  {
   "cell_type": "markdown",
   "id": "0efa351f-49fe-433e-ad1c-b326c5be06d6",
   "metadata": {
    "tags": []
   },
   "source": [
    "## Tuple - `(<entry>,...)`\n",
    "\n",
    "- Tuples are similar to lists in many ways.\n",
    "- Tuples are an ordered collection.\n",
    "- Tuples are callable by index.\n",
    "- __But tuples are immutable__.\n",
    "\n",
    "See the [official Python documentation](https://docs.python.org/3/tutorial/datastructures.html#tuples-and-sequences) for more."
   ]
  },
  {
   "cell_type": "code",
   "execution_count": 11,
   "id": "d8404edf-e7bc-42c5-ad5e-eb5c3664beba",
   "metadata": {},
   "outputs": [
    {
     "name": "stdout",
     "output_type": "stream",
     "text": [
      "(1, 2, 3)\n"
     ]
    }
   ],
   "source": [
    "my_tuple_of_ints = (1, 2, 3,)\n",
    "print(my_tuple_of_ints)"
   ]
  },
  {
   "cell_type": "code",
   "execution_count": 12,
   "id": "fa747e84-3537-4a4b-bed5-888f620b1bf1",
   "metadata": {},
   "outputs": [
    {
     "name": "stdout",
     "output_type": "stream",
     "text": [
      "1\n"
     ]
    }
   ],
   "source": [
    "first_entry = my_tuple_of_ints[0]\n",
    "print(first_entry)"
   ]
  },
  {
   "cell_type": "code",
   "execution_count": 14,
   "id": "4e78b8af-fac0-4f4f-8c78-75d4b102e09a",
   "metadata": {},
   "outputs": [],
   "source": [
    "# my_tuple_of_ints[0] = 5 # -> this will raise an error!\n",
    "# print(my_tuple_of_ints)"
   ]
  },
  {
   "cell_type": "markdown",
   "id": "7cc5ac9c-a182-4581-99ef-ecd934884553",
   "metadata": {},
   "source": [
    "## Sets - `{<entry>,...}`\n",
    "\n",
    "- Sets are an unordered collections.\n",
    "- Sets can only contain unique values.\n",
    "- You use `add` and `remove` to add and remove from the set.\n",
    "- You can also do other set-like operations like `in`, `union`, and `intersection`.\n",
    "\n",
    "See the [official Python documentation](https://docs.python.org/3/tutorial/datastructures.html#sets) for more.\n"
   ]
  },
  {
   "cell_type": "code",
   "execution_count": 20,
   "id": "90d6d19b-6139-4fda-9c56-37ea1fc859c6",
   "metadata": {},
   "outputs": [
    {
     "name": "stdout",
     "output_type": "stream",
     "text": [
      "{1, 2, 3}\n"
     ]
    }
   ],
   "source": [
    "myset_of_ints = {1,2,3,1,1,1}\n",
    "print(myset_of_ints)"
   ]
  },
  {
   "cell_type": "code",
   "execution_count": 29,
   "id": "1fb557c2-e447-4182-a045-63c267fe4eba",
   "metadata": {},
   "outputs": [
    {
     "name": "stdout",
     "output_type": "stream",
     "text": [
      "{1, 2, 3, 4}\n",
      "4 in myset_of_ints: True\n"
     ]
    }
   ],
   "source": [
    "myset_of_ints.add(4)\n",
    "print(myset_of_ints)\n",
    "print(f\"4 in myset_of_ints: {4 in myset_of_ints}\")"
   ]
  },
  {
   "cell_type": "code",
   "execution_count": 30,
   "id": "ee1aa82d-949a-4a5d-b762-7010a420ffab",
   "metadata": {},
   "outputs": [
    {
     "name": "stdout",
     "output_type": "stream",
     "text": [
      "{1, 2, 3}\n",
      "4 in myset_of_ints: False\n"
     ]
    }
   ],
   "source": [
    "myset_of_ints.remove(4)\n",
    "print(myset_of_ints)\n",
    "print(f\"4 in myset_of_ints: {4 in myset_of_ints}\")"
   ]
  },
  {
   "cell_type": "code",
   "execution_count": null,
   "id": "75200181-c9b4-4b25-affb-899caeebdb52",
   "metadata": {},
   "outputs": [],
   "source": []
  }
 ],
 "metadata": {
  "kernelspec": {
   "display_name": "Python 3 (ipykernel)",
   "language": "python",
   "name": "python3"
  },
  "language_info": {
   "codemirror_mode": {
    "name": "ipython",
    "version": 3
   },
   "file_extension": ".py",
   "mimetype": "text/x-python",
   "name": "python",
   "nbconvert_exporter": "python",
   "pygments_lexer": "ipython3",
   "version": "3.9.5"
  }
 },
 "nbformat": 4,
 "nbformat_minor": 5
}
