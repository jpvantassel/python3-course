{
 "cells": [
  {
   "cell_type": "markdown",
   "id": "68e5c6a2-eeb1-438f-828e-b4e0c82512ae",
   "metadata": {},
   "source": [
    "# User-Defined Kernels\n",
    "\n",
    "> Joseph P. Vantassel, Texas Advanced Computing Center - The University of Texas at Austin\n",
    "\n",
    "This notebook includes a demonstation of using the _kernelutility_ Python package to create custom user-defined kernels on the DesignSafe-Cyberinfrastructure's JupyterHub.\n",
    "\n",
    "_Note that this tool is designed to only work on the DesignSafe-CI's JupyterHub and will likely not work for local installations._"
   ]
  },
  {
   "cell_type": "markdown",
   "id": "d9c49afa-18cb-4ff5-b176-7b3b18354a3a",
   "metadata": {},
   "source": [
    "## The Tale of Two Jupyter Images\n",
    "\n",
    "- Prior to March 1st 2022, there was only one Jupyter image on DesignSafe, we will refer to this as the `Classic Jupyter Image`\n",
    "- On March 1st 2022, a new image was released, we will refer to this as the `Updated Jupyter Image (base-0.1.0)`\n",
    "- The `Classic` and `Updated` images are different in many ones these include:\n",
    "\n",
    "### `Classic Jupyter Image`\n",
    "\n",
    "- Uses the classic JupyterNotebook interface.\n",
    "- Default Python version is 3.6.\n",
    "- Over 100 Python packages installed by default.\n",
    "- Additional Bash and R kernel.\n",
    "- Will be kept available permanently, although is not recommened for new projects.\n",
    "\n",
    "### `Update Jupyter Image (base-0.1.0)`\n",
    "\n",
    "- Uses JupyterLab as its default interface.\n",
    "- Default Python version is 3.9.\n",
    "- Only seven Python packages installed by default: `numpy`, `scipy`, `matplotlib`, `pandas`, `agavepy`, `tapis-cli`, and `ipywdigets`.\n",
    "- Uses a new version of `agavepy` version, __job submission syntax has changed slightly.__\n",
    "- Additional R and Julia kernels.\n",
    "- Is recommened for all new projects."
   ]
  },
  {
   "cell_type": "markdown",
   "id": "c544ca2b-591d-4382-b938-be20aaa042c2",
   "metadata": {},
   "source": [
    "## Path Forward\n",
    "\n",
    "- Installing every package requested by users was untenable in the long-term, due to version lock and version promiscuity, see [semver.org](https://semver.org/).\n",
    "- DesignSafe needed a more flexbile approach that allowed users to control and direct their code dependencies.\n",
    "- Two main approaches for this:\n",
    "\n",
    "### Approach 1: Effemoral User Installations\n",
    "\n",
    "#### Benefits\n",
    "    - Users need to explicitly define their dependencies.\n",
    "    - By including the `pip` or `conda` installation syntax, the notebook is no longer tied to the environment in which it was developed.\n",
    "    - As a result notebooks become more self-contained and future proof.\n",
    "\n",
    "#### Disadvantages\n",
    "    - Since the installations are effemoral users must reinstall packages everytime.\n",
    "    \n",
    "### Approach 2: Custom User-Defined Kernels\n",
    "\n",
    "##### Benefits\n",
    "    - Users can persist kernels between sessions, saving time on startup.\n",
    "    - Users can run multiple Python interpreters with multiple custom enviornment.\n",
    "    - Users can share kernels (i.e., between professors and students, between collaborators on a project).\n",
    "    - Users can publish kernels alongside their notebooks for use by others.\n",
    "\n",
    "#### Disdavantages\n",
    "    - Can be more time consuming than `pip` installing from scratch if there is a small number of packages.\n",
    "    \n",
    "> For most users Approach 1 is the way to go. For those who are interested in having the extra functionality of Approach 2 the rest of the notebook introduces the _kerneltuility_."
   ]
  },
  {
   "cell_type": "markdown",
   "id": "413a7958-fddf-4fcf-ad55-71459bae257e",
   "metadata": {},
   "source": [
    "## Getting Start with the `kernelutilty`\n",
    "\n",
    "It's a Python package so we need to first install it. After it is installed we need to restart our kernel so Python can \"see\" the new package."
   ]
  },
  {
   "cell_type": "code",
   "execution_count": null,
   "id": "1ff27e25-ffc2-4f9d-ae50-498b2601fc41",
   "metadata": {},
   "outputs": [],
   "source": [
    "!pip install kernelutility"
   ]
  },
  {
   "cell_type": "code",
   "execution_count": null,
   "id": "851e8e81-4ed0-4ffe-a8ef-9ebc3f1368ec",
   "metadata": {},
   "outputs": [],
   "source": [
    "from kernelutility import kernelset # will get warning here if there are no environment conifgured, that is OK.\n",
    "print(kernelset)"
   ]
  },
  {
   "cell_type": "code",
   "execution_count": null,
   "id": "fa3e0a27-89a7-4b70-bbe0-8937be493eaa",
   "metadata": {},
   "outputs": [],
   "source": [
    "!ls -la"
   ]
  },
  {
   "cell_type": "markdown",
   "id": "2df47a6f-9d9b-4d34-ba62-c69d791f5c31",
   "metadata": {},
   "source": [
    "## Creating a kernel\n",
    "\n",
    "To create a kernel we take out `kernelset` instance and call the create method with the appropriate arguments."
   ]
  },
  {
   "cell_type": "code",
   "execution_count": null,
   "id": "5b5a2797-1366-498b-945f-df6faeacba3c",
   "metadata": {},
   "outputs": [],
   "source": [
    "kernelset.create(\"py37\", python_version=\"3.7\", verbose=True)\n",
    "print(kernelset)"
   ]
  },
  {
   "cell_type": "markdown",
   "id": "62a05afb-53b1-43bf-888d-d414a776fa15",
   "metadata": {},
   "source": [
    "## Destroying a kernel\n",
    "\n",
    "If we decide we not longer want the kernel we can destroy it using similar syntax to how we created it."
   ]
  },
  {
   "cell_type": "code",
   "execution_count": null,
   "id": "cd0ef624-31aa-40c6-8c47-fcc6d7fe8a81",
   "metadata": {},
   "outputs": [],
   "source": [
    "kernelset.destroy(name=\"py37\")\n",
    "print(kernelset)"
   ]
  },
  {
   "cell_type": "markdown",
   "id": "92f67043-e2d8-4a0e-88d3-2241c13e6e79",
   "metadata": {},
   "source": [
    "## Adding a kernel\n",
    "\n",
    "If we would like to add a kernel someone else has created we can add it.\n",
    "\n",
    "_Note that adding the kernel will make your own local copy of their kernel at the time you added it._"
   ]
  },
  {
   "cell_type": "code",
   "execution_count": null,
   "id": "3a843ee4-fd4d-469a-891a-cb52bd16a4da",
   "metadata": {},
   "outputs": [],
   "source": [
    "kernelset.add(path=\"...)\n",
    "print(kernelset)"
   ]
  },
  {
   "cell_type": "markdown",
   "id": "11748be1-252e-4adf-babf-6473be558b66",
   "metadata": {},
   "source": [
    "## Removing a kernel\n",
    "\n",
    "You can also remove a kernel. Removing a kernel removes it from your current session but does not destroy the underlying files, so if you shutdown and restart your server the removed kernel will be restored."
   ]
  },
  {
   "cell_type": "code",
   "execution_count": null,
   "id": "ea77a09d-86f9-44ad-baec-fef9337304d3",
   "metadata": {},
   "outputs": [],
   "source": [
    "kernelset.remove(name=\"py38\")\n",
    "print(kernelset)"
   ]
  },
  {
   "cell_type": "markdown",
   "id": "6d8b7f44-a5ef-4ff4-a3f5-6d3625c8845e",
   "metadata": {},
   "source": [
    "## Restoring your kernels\n",
    "\n",
    "When you shutdown your JupyterHub server and restart it your user-defined kernels will be gone. To restore them all you need to do is:\n",
    "\n",
    "- Reinstall the kernelutility with `!pip install kernelutility`,\n",
    "- Restart your Jupyter notebook kernel, and\n",
    "- Rerun this line from above `from kernelutility import kernelset`."
   ]
  },
  {
   "cell_type": "code",
   "execution_count": null,
   "id": "4a3f8695-a091-4d33-905a-e8fe82a2c4f2",
   "metadata": {},
   "outputs": [],
   "source": []
  }
 ],
 "metadata": {
  "kernelspec": {
   "display_name": "Python 3 (ipykernel)",
   "language": "python",
   "name": "python3"
  },
  "language_info": {
   "codemirror_mode": {
    "name": "ipython",
    "version": 3
   },
   "file_extension": ".py",
   "mimetype": "text/x-python",
   "name": "python",
   "nbconvert_exporter": "python",
   "pygments_lexer": "ipython3",
   "version": "3.9.5"
  }
 },
 "nbformat": 4,
 "nbformat_minor": 5
}
