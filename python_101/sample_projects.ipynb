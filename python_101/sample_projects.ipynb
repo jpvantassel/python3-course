{
 "cells": [
  {
   "cell_type": "markdown",
   "id": "337b2b37-5f22-4c06-b0e2-0bec16f81cb4",
   "metadata": {},
   "source": [
    "# Sample Projects\n",
    "\n",
    "> Joseph P. Vantassel\n",
    "\n",
    "This notebook contains project ideas for a 30 minute hands-on activity. The projects are organized by difficulty."
   ]
  },
  {
   "cell_type": "markdown",
   "id": "3160e812-b592-47b0-9777-60d446b7a24d",
   "metadata": {},
   "source": [
    "## Beginner\n",
    "\n",
    "These example problems assume little to no previous knowledge of Python syntax.\n",
    "\n",
    "1. Find the index and value of the maximum value in a `list` of arbitrary length. Use `for` and `if` statements. Check your work with functions from the standard library.\n",
    "\n",
    "2. Write a function to calculate the points along the perimeter of a circle of a specified radius and center location. Write a second function to plot the generated points using `matplotlib`."
   ]
  },
  {
   "cell_type": "markdown",
   "id": "3c9a5485-59e4-4038-9d58-cf333d855bc0",
   "metadata": {},
   "source": [
    "## Intermediate\n",
    "\n",
    "These example problems assume some amount familarity with Python syntax.\n",
    "\n",
    "1. Numerically differentiate the `sin` function. Explore the effect of changing your numerical discretization. Check your work by comparing it to its analytical derivative.\n",
    "\n",
    "2. Numerically integrate the `cos` function. Explore the effect of changing your numerical discretization. Check your work by comparing it to its analytical integral."
   ]
  },
  {
   "cell_type": "markdown",
   "id": "4affb72b-f83f-4ea0-9cf9-46e97a8fdddf",
   "metadata": {},
   "source": [
    "## Advanced\n",
    "\n",
    "These example problems assume familiarity with Python syntax.\n",
    "\n",
    "1. Create a user-defined Python kernel, called `sklearn`, that uses the Python 3.10. Inside of the kernel install `pandas`, `numpy`, `matplotlib`, and `scikit-learn`. In a JupyterNotebok demonstrate with a few simple commands that you have the correct Python interpreter and have installed the correct Python packages.\n",
    "\n",
    "2. Find an open-source project that you are interested in from [PyPI](https://pypi.org/) or [GitHub](https://github.com/). If you do not know of a package you would like to try, you can use [hvsrpy](https://github.com/jpvantassel/hvsrpy). Follow the instructions on the project's `PyPI` or `GitHub` page to get started with the installation and running the provided example(s). "
   ]
  },
  {
   "cell_type": "code",
   "execution_count": null,
   "id": "e35a2748-2df3-4155-9b54-5c9c46c90224",
   "metadata": {},
   "outputs": [],
   "source": []
  }
 ],
 "metadata": {
  "kernelspec": {
   "display_name": "Python 3 (ipykernel)",
   "language": "python",
   "name": "python3"
  },
  "language_info": {
   "codemirror_mode": {
    "name": "ipython",
    "version": 3
   },
   "file_extension": ".py",
   "mimetype": "text/x-python",
   "name": "python",
   "nbconvert_exporter": "python",
   "pygments_lexer": "ipython3",
   "version": "3.9.5"
  }
 },
 "nbformat": 4,
 "nbformat_minor": 5
}
