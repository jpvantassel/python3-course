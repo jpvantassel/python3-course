{
 "cells": [
  {
   "cell_type": "markdown",
   "id": "2a5c8f10-8f26-4410-ad15-5628c75bf7e9",
   "metadata": {},
   "source": [
    "# JupyterHub, Introduction, and Schedule\n",
    "\n",
    "> Joseph P. Vantassel"
   ]
  },
  {
   "cell_type": "markdown",
   "id": "7a795e87-1c45-4055-a802-cb2007ad0beb",
   "metadata": {},
   "source": [
    "## JupyterHub\n",
    "\n",
    "### Accessing DesignSafe JupyterHub\n",
    "\n",
    "- First, you need an account (they are free to all researchers in natural hazards).\n",
    "- If you do not have one you can request one [here](https://www.designsafe-ci.org/account/register/).\n",
    "- If you do have one, you can access the DesignSafe JupyterHub, by going to `Workspace > Tools and Applications > Analysis > Jupyter > Jupyter > Launch > Updated Jupyter Image (base-0.1.0) > Start My Server` or by using this link [jupyter.designsafe-ci.org](https://jupyter.designsafe-ci.org/).\n"
   ]
  },
  {
   "cell_type": "markdown",
   "id": "69b9e65f-0bc3-489b-88f7-f070fc864881",
   "metadata": {},
   "source": [
    "### JupyterHub Overview\n",
    "\n",
    "- Spawner and changing between images\n",
    "- Launcher page\n",
    "    - Python, Julia, and R kernels\n",
    "    - Text editor\n",
    "    - Terminal\n",
    "- File browser\n",
    "- Tabs, kernels, and terminals\n",
    "- Extension Manager\n",
    "- Good stewardship (please shutdown your server when not in use)\n",
    "- See [DesignSafe's Jupyter documentation](https://www.designsafe-ci.org/rw/user-guides/tools-applications/jupyter/) for more information."
   ]
  },
  {
   "cell_type": "markdown",
   "id": "d677b0f5-7694-4d5c-a3b6-3d359ee91d23",
   "metadata": {},
   "source": [
    "### Where can I get a copy of these notes?\n",
    "\n",
    "- Notes are publically available via GitHub [https://github.com/jpvantassel/python3-course](https://github.com/jpvantassel/python3-course).\n",
    "- You can download them manually by click: `Code` > `Download Zip`\n",
    "- Or you can use `git` to clone yourself a copy.`git clone https://github.com/jpvantassel/python3-course.git`."
   ]
  },
  {
   "cell_type": "markdown",
   "id": "44eb4438-0bfb-4228-925b-f5cd8b68aa1b",
   "metadata": {},
   "source": [
    "## Introduction\n",
    "\n",
    "\n",
    "### About me\n",
    "\n",
    "- Research Associate, Data Intensive Computing Group, Texas Advanced Computing Center\n",
    "- I work at the intersection of geotechnical engineering, geology, and geophysics.\n",
    "- I do research on methods and techniques to \"see\" into the subsurface (i.e., subsurface imaging). If you want to learn more you can checkout my research website: [jpvantassel.com](https://www.jpvantassel.com/).\n",
    "- The tools I use in my research include: open-source software development, high-performance computing, and machine learning. Python has a place in all three.\n",
    "\n",
    "### Education\n",
    "\n",
    "- 2016 earned BS from Rensselaer Polytechnic Institute in Troy, NY (Civil Engineering).\n",
    "- 2018 earned MS from The University of Texas at Austin in Austin, TX (Civil Engineering - Geotechnical Focus).\n",
    "- 2021 earned PhD from The University of Texas at Austin in Austin, TX (Civil Engineering - Geotechnical Focus).\n",
    "\n",
    "### Qualificatons\n",
    "\n",
    "- Using Python since about 2017.\n",
    "- Self taught (... well taught by Professor Google ...)\n",
    "- Written > 20k lines of Python code.\n",
    "- 11k lines of which are available as open-source Python packages.\n",
    "- One of my most popular packages, [hvsrpy](https://github.com/jpvantassel/hvsrpy) has been downloaded over 20k times since its release in February 2020. My other packages have been downloaded on the order of several thousand times."
   ]
  },
  {
   "cell_type": "markdown",
   "id": "3f89ef39-976e-41a2-8af1-97ac7fbd9384",
   "metadata": {},
   "source": [
    "## Schedule\n",
    "\n",
    "- Background and Introduction: __20 minutes__\n",
    "- Introduction to Python: __40 minutes__\n",
    "- More advanced Python topics: __30 minutes__\n",
    "- Interactive, hands-on segment: __30 minutes__\n",
    "\n",
    "I will do my best to keep to this schedule.\n",
    "\n",
    "\n",
    "The training will be recorded and post online in the coming weeks."
   ]
  },
  {
   "cell_type": "markdown",
   "id": "5448c435-f199-4156-bf59-1c96b68c406d",
   "metadata": {},
   "source": [
    "## Notes on Jupyter\n",
    "\n",
    "### Terminology*\n",
    "\n",
    "- If you followed the instructions above you are using DesignSafe's __JupyterHub__.\n",
    "- When you selected the `Updated Jupyter Image (base-0.1.0)` in the JupyterHub's Spawner you chose that as your __Jupyter Image__.\n",
    "- The `Updated Jupyter Image (base-0.1.0)` is a __Docker Image__ built on Ubuntu 20.04 (focal).\n",
    "- The image is served to you by DesignSafe's JuptyerHub. The computational power of DesignSafe's JupyterHub is provided on the Freetail nodes managed via Kubernetes.\n",
    "- The computational power provided to each user is 4 cores and 10 GB of memory. Resources are shared across many users, so please shut down your server when not in use.\n",
    "- The interface you are looking at right now is __JupyterLab__.\n",
    "- The document you are looking at right now is a __JupyterNotebook__.\n",
    "- Jupyter can be run locally [see here for instructions](https://jpvantassel.github.io/python3-course/#/intro/installing_jupyter) although you lose the collaborative and data-security benefits of a cloud-based platform.\n",
    "\n",
    "_*If this means nothing to you that is okay. I expect this will likely be helpful to you in the future._\n",
    "\n",
    "### Thoughts about Jupyter\n",
    "\n",
    "- Jupyter is not the only way to run Python code, other options include:\n",
    "    - the Read Evalualte Print Loop (REPL) (e.g., start REPL with entering `python3` at the command line) and\n",
    "    - running scripts at the command-line (e.g., `python3 mycode.py`).\n",
    "- Jupyter allows you to combine code, plots, and mardown into a single document.\n",
    "- Jupyter is a great tool for teaching and communicating your results to a broad audience.\n",
    "- Jupyter is a great tool for making easy-to-use user interfaces.\n",
    "- Jupyter is not a great tools for developing serious Python scripts or packages. I put that dividing line at about 200 - 300 lines of code. For those who are interested a humerous talk about some of the challenges with notebooks [see this](https://www.youtube.com/watch?v=7jiPeIFXb6U)."
   ]
  },
  {
   "cell_type": "markdown",
   "id": "00df33bf-135a-4c34-aedf-fa56d2c1940a",
   "metadata": {},
   "source": [
    "## Questions for the audience\n",
    "\n",
    "1. How long have you been programming (in any language)?\n",
    "2. How long have you been programming in Python?\n",
    "\n",
    "Go to [menti.com](menti.com) to complete the survey."
   ]
  },
  {
   "cell_type": "code",
   "execution_count": null,
   "id": "710a6034-d2d6-469b-aeaa-e358a83a6ad6",
   "metadata": {},
   "outputs": [],
   "source": []
  }
 ],
 "metadata": {
  "kernelspec": {
   "display_name": "Python 3 (ipykernel)",
   "language": "python",
   "name": "python3"
  },
  "language_info": {
   "codemirror_mode": {
    "name": "ipython",
    "version": 3
   },
   "file_extension": ".py",
   "mimetype": "text/x-python",
   "name": "python",
   "nbconvert_exporter": "python",
   "pygments_lexer": "ipython3",
   "version": "3.9.5"
  }
 },
 "nbformat": 4,
 "nbformat_minor": 5
}
